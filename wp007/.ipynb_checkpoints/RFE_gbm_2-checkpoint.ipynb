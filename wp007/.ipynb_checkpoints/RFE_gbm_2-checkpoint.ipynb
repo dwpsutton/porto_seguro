{
 "cells": [
  {
   "cell_type": "code",
   "execution_count": 1,
   "metadata": {
    "collapsed": false
   },
   "outputs": [
    {
     "name": "stderr",
     "output_type": "stream",
     "text": [
      "/Users/davidsutton/anaconda/lib/python2.7/site-packages/matplotlib/font_manager.py:273: UserWarning: Matplotlib is building the font cache using fc-list. This may take a moment.\n",
      "  warnings.warn('Matplotlib is building the font cache using fc-list. This may take a moment.')\n"
     ]
    }
   ],
   "source": [
    "import pandas as pd, numpy as np, matplotlib.pyplot as plt\n",
    "%matplotlib inline\n",
    "\n",
    "from datetime import datetime,timedelta\n",
    "import sklearn.feature_selection\n",
    "import lightgbm.sklearn\n",
    "\n",
    "import pickle as pkl"
   ]
  },
  {
   "cell_type": "code",
   "execution_count": 2,
   "metadata": {
    "collapsed": false
   },
   "outputs": [],
   "source": [
    "def gini(actual, pred, cmpcol = 0, sortcol = 1):\n",
    "    assert( len(actual) == len(pred) )\n",
    "    all = np.asarray(np.c_[ actual, pred, np.arange(len(actual)) ], dtype=np.float)\n",
    "    all = all[ np.lexsort((all[:,2], -1*all[:,1])) ]\n",
    "    totalLosses = all[:,0].sum()\n",
    "    giniSum = all[:,0].cumsum().sum() / totalLosses\n",
    " \n",
    "    giniSum -= (len(actual) + 1) / 2.\n",
    "    return giniSum / len(actual)\n",
    " \n",
    "def gini_normalized(a, p):\n",
    "    return gini(a, p) / gini(a, a)\n",
    " \n",
    "def test_gini():\n",
    "    def fequ(a,b):\n",
    "        return abs( a -b) < 1e-6\n",
    "    def T(a, p, g, n):\n",
    "        assert( fequ(gini(a,p), g) )\n",
    "        assert( fequ(gini_normalized(a,p), n) )\n",
    "    T([1, 2, 3], [10, 20, 30], 0.111111, 1)\n",
    "    T([1, 2, 3], [30, 20, 10], -0.111111, -1)\n",
    "    T([1, 2, 3], [0, 0, 0], -0.111111, -1)\n",
    "    T([3, 2, 1], [0, 0, 0], 0.111111, 1)\n",
    "    T([1, 2, 4, 3], [0, 0, 0, 0], -0.1, -0.8)\n",
    "    T([2, 1, 4, 3], [0, 0, 2, 1], 0.125, 1)\n",
    "    T([0, 20, 40, 0, 10], [40, 40, 10, 5, 5], 0, 0)\n",
    "    T([40, 0, 20, 0, 10], [1000000, 40, 40, 5, 5], 0.171428,\n",
    "       0.6)\n",
    "    T([40, 20, 10, 0, 0], [40, 20, 10, 0, 0], 0.285714, 1)\n",
    "    T([1, 1, 0, 1], [0.86, 0.26, 0.52, 0.32], -0.041666,\n",
    "       -0.333333)"
   ]
  },
  {
   "cell_type": "markdown",
   "metadata": {},
   "source": [
    "Read data"
   ]
  },
  {
   "cell_type": "code",
   "execution_count": 3,
   "metadata": {
    "collapsed": false
   },
   "outputs": [
    {
     "ename": "IndexError",
     "evalue": "too many indices for array",
     "output_type": "error",
     "traceback": [
      "\u001b[0;31m---------------------------------------------------------------------------\u001b[0m",
      "\u001b[0;31mIndexError\u001b[0m                                Traceback (most recent call last)",
      "\u001b[0;32m<ipython-input-3-9b997a59faab>\u001b[0m in \u001b[0;36m<module>\u001b[0;34m()\u001b[0m\n\u001b[1;32m      3\u001b[0m \u001b[0mX_train\u001b[0m\u001b[0;34m=\u001b[0m \u001b[0mX_train\u001b[0m\u001b[0;34m[\u001b[0m\u001b[0;36m0\u001b[0m\u001b[0;34m:\u001b[0m\u001b[0mn\u001b[0m\u001b[0;34m/\u001b[0m\u001b[0;36m2\u001b[0m\u001b[0;34m,\u001b[0m\u001b[0;34m:\u001b[0m\u001b[0;34m]\u001b[0m\u001b[0;34m\u001b[0m\u001b[0m\n\u001b[1;32m      4\u001b[0m \u001b[0my_train\u001b[0m\u001b[0;34m=\u001b[0m \u001b[0mnp\u001b[0m\u001b[0;34m.\u001b[0m\u001b[0mload\u001b[0m\u001b[0;34m(\u001b[0m\u001b[0mopen\u001b[0m\u001b[0;34m(\u001b[0m\u001b[0;34m'full_train_labels_wp007.bin'\u001b[0m\u001b[0;34m,\u001b[0m\u001b[0;34m'rb'\u001b[0m\u001b[0;34m)\u001b[0m\u001b[0;34m)\u001b[0m\u001b[0;34m\u001b[0m\u001b[0m\n\u001b[0;32m----> 5\u001b[0;31m \u001b[0my_train\u001b[0m\u001b[0;34m=\u001b[0m \u001b[0my_train\u001b[0m\u001b[0;34m[\u001b[0m\u001b[0;36m0\u001b[0m\u001b[0;34m:\u001b[0m\u001b[0mn\u001b[0m\u001b[0;34m/\u001b[0m\u001b[0;36m2\u001b[0m\u001b[0;34m,\u001b[0m\u001b[0;36m0\u001b[0m\u001b[0;34m]\u001b[0m\u001b[0;34m\u001b[0m\u001b[0m\n\u001b[0m",
      "\u001b[0;31mIndexError\u001b[0m: too many indices for array"
     ]
    }
   ],
   "source": [
    "X_train= np.load(open('full_train_matrix_wp007.bin','rb'))\n",
    "y_train= np.load(open('full_train_labels_wp007.bin','rb'))"
   ]
  },
  {
   "cell_type": "code",
   "execution_count": null,
   "metadata": {
    "collapsed": false
   },
   "outputs": [],
   "source": [
    "# X_test= np.load(open('../wp005/blind_test_matrix.bin','rb'))"
   ]
  },
  {
   "cell_type": "code",
   "execution_count": null,
   "metadata": {
    "collapsed": true
   },
   "outputs": [],
   "source": [
    "# test_ids= pd.read_csv('../data/test.csv',usecols=['id'])"
   ]
  },
  {
   "cell_type": "code",
   "execution_count": 3,
   "metadata": {
    "collapsed": true
   },
   "outputs": [],
   "source": [
    "def scoring_function(estimator,X_,y_):\n",
    "    p= estimator.predict_proba(X_)\n",
    "    return 2.*sklearn.metrics.roc_auc_score(y_,p[:,1])-1."
   ]
  },
  {
   "cell_type": "code",
   "execution_count": 4,
   "metadata": {
    "collapsed": true
   },
   "outputs": [],
   "source": [
    "lgb_params = {}\n",
    "lgb_params['learning_rate'] = 0.01\n",
    "lgb_params['n_estimators'] = 1300\n",
    "#lgb_params['max_depth'] = 10\n",
    "lgb_params['max_bin'] = 10\n",
    "lgb_params['subsample'] = 0.8\n",
    "lgb_params['subsample_freq'] = 10\n",
    "lgb_params['colsample_bytree'] = 0.8   \n",
    "lgb_params['min_child_samples'] = 500\n",
    "lgb_params['num_leaves']= 25\n",
    "lgb_params['random_state']= 0\n",
    "gbm = lightgbm.sklearn.LGBMClassifier(**lgb_params)"
   ]
  },
  {
   "cell_type": "markdown",
   "metadata": {},
   "source": [
    "Run vanilla random forest"
   ]
  },
  {
   "cell_type": "code",
   "execution_count": null,
   "metadata": {
    "collapsed": false
   },
   "outputs": [],
   "source": [
    "tc= datetime.now()\n",
    "selector = sklearn.feature_selection.RFECV(gbm, \n",
    "                                           step= 10, \n",
    "                                           cv= 3,\n",
    "                                           scoring= scoring_function,\n",
    "                                           verbose=1\n",
    "                                          )\n",
    "selector = selector.fit(X_train, y_train)\n",
    "print 'RFE took: ',(datetime.now() - tc).total_seconds(),' seconds'"
   ]
  },
  {
   "cell_type": "code",
   "execution_count": null,
   "metadata": {
    "collapsed": false
   },
   "outputs": [],
   "source": [
    "pkl.dump(selector,open('selector_light.pkl','wb'))\n",
    "plt.plot(range(len(selector.grid_scores_)), selector.grid_scores_)\n",
    "plt.ylim([0.26,0.28])"
   ]
  },
  {
   "cell_type": "code",
   "execution_count": 12,
   "metadata": {
    "collapsed": false
   },
   "outputs": [
    {
     "data": {
      "text/plain": [
       "array([ 0.        ,  0.2628249 ,  0.27290985,  0.27338119,  0.27295542,\n",
       "        0.27279165,  0.27283163,  0.27260196,  0.27233182,  0.27307943])"
      ]
     },
     "execution_count": 12,
     "metadata": {},
     "output_type": "execute_result"
    }
   ],
   "source": [
    "selector.grid_scores_"
   ]
  },
  {
   "cell_type": "code",
   "execution_count": 17,
   "metadata": {
    "collapsed": false
   },
   "outputs": [
    {
     "data": {
      "text/plain": [
       "348"
      ]
     },
     "execution_count": 17,
     "metadata": {},
     "output_type": "execute_result"
    }
   ],
   "source": [
    "sum(selector.ranking_ <= 2)"
   ]
  },
  {
   "cell_type": "markdown",
   "metadata": {},
   "source": [
    "Narrow down further"
   ]
  },
  {
   "cell_type": "code",
   "execution_count": 5,
   "metadata": {
    "collapsed": false
   },
   "outputs": [
    {
     "name": "stderr",
     "output_type": "stream",
     "text": [
      "/Users/davidsutton/anaconda/lib/python2.7/site-packages/sklearn/base.py:311: UserWarning: Trying to unpickle estimator LabelEncoder from version 0.19.0 when using version 0.19.1. This might lead to breaking code or invalid results. Use at your own risk.\n",
      "  UserWarning)\n",
      "/Users/davidsutton/anaconda/lib/python2.7/site-packages/sklearn/base.py:311: UserWarning: Trying to unpickle estimator RFECV from version 0.19.0 when using version 0.19.1. This might lead to breaking code or invalid results. Use at your own risk.\n",
      "  UserWarning)\n"
     ]
    }
   ],
   "source": [
    "light_selector= pkl.load(open('selector_light.pkl','rb'))"
   ]
  },
  {
   "cell_type": "code",
   "execution_count": 4,
   "metadata": {
    "collapsed": true
   },
   "outputs": [],
   "source": [
    "X_train= np.load(open('full_train_matrix_wp007.bin','rb'))\n",
    "n= np.shape(X_train)[0]\n",
    "X_train= X_train[0:n/2,:]\n",
    "y_train= np.load(open('full_train_labels_wp007.bin','rb'))\n",
    "y_train= y_train[0:n/2]"
   ]
  },
  {
   "cell_type": "code",
   "execution_count": 9,
   "metadata": {
    "collapsed": false
   },
   "outputs": [],
   "source": [
    "X_train= X_train[ :, np.where(light_selector.support_)[0]]"
   ]
  },
  {
   "cell_type": "code",
   "execution_count": 10,
   "metadata": {
    "collapsed": false
   },
   "outputs": [
    {
     "data": {
      "text/plain": [
       "(297606, 248)"
      ]
     },
     "execution_count": 10,
     "metadata": {},
     "output_type": "execute_result"
    }
   ],
   "source": [
    "np.shape(X_train)"
   ]
  },
  {
   "cell_type": "code",
   "execution_count": 11,
   "metadata": {
    "collapsed": false
   },
   "outputs": [
    {
     "name": "stdout",
     "output_type": "stream",
     "text": [
      "Fitting estimator with 248 features.\n",
      "Fitting estimator with 238 features.\n",
      "Fitting estimator with 228 features.\n",
      "Fitting estimator with 218 features.\n",
      "Fitting estimator with 208 features.\n",
      "Fitting estimator with 198 features.\n",
      "Fitting estimator with 188 features.\n",
      "Fitting estimator with 178 features.\n",
      "Fitting estimator with 168 features.\n",
      "Fitting estimator with 158 features.\n",
      "Fitting estimator with 148 features.\n",
      "Fitting estimator with 138 features.\n",
      "Fitting estimator with 128 features.\n",
      "Fitting estimator with 118 features.\n",
      "Fitting estimator with 108 features.\n",
      "Fitting estimator with 98 features.\n",
      "Fitting estimator with 88 features.\n",
      "Fitting estimator with 78 features.\n",
      "Fitting estimator with 68 features.\n",
      "Fitting estimator with 58 features.\n",
      "Fitting estimator with 48 features.\n",
      "Fitting estimator with 38 features.\n",
      "Fitting estimator with 28 features.\n",
      "Fitting estimator with 18 features.\n",
      "Fitting estimator with 8 features.\n",
      "Fitting estimator with 248 features.\n",
      "Fitting estimator with 238 features.\n",
      "Fitting estimator with 228 features.\n",
      "Fitting estimator with 218 features.\n",
      "Fitting estimator with 208 features.\n",
      "Fitting estimator with 198 features.\n",
      "Fitting estimator with 188 features.\n",
      "Fitting estimator with 178 features.\n",
      "Fitting estimator with 168 features.\n",
      "Fitting estimator with 158 features.\n",
      "Fitting estimator with 148 features.\n",
      "Fitting estimator with 138 features.\n",
      "Fitting estimator with 128 features.\n",
      "Fitting estimator with 118 features.\n",
      "Fitting estimator with 108 features.\n",
      "Fitting estimator with 98 features.\n",
      "Fitting estimator with 88 features.\n",
      "Fitting estimator with 78 features.\n",
      "Fitting estimator with 68 features.\n",
      "Fitting estimator with 58 features.\n",
      "Fitting estimator with 48 features.\n",
      "Fitting estimator with 38 features.\n",
      "Fitting estimator with 28 features.\n",
      "Fitting estimator with 18 features.\n",
      "Fitting estimator with 8 features.\n",
      "Fitting estimator with 248 features.\n",
      "Fitting estimator with 238 features.\n",
      "Fitting estimator with 228 features.\n",
      "Fitting estimator with 218 features.\n",
      "Fitting estimator with 208 features.\n",
      "Fitting estimator with 198 features.\n",
      "Fitting estimator with 188 features.\n",
      "Fitting estimator with 178 features.\n",
      "Fitting estimator with 168 features.\n",
      "Fitting estimator with 158 features.\n",
      "Fitting estimator with 148 features.\n",
      "Fitting estimator with 138 features.\n",
      "Fitting estimator with 128 features.\n",
      "Fitting estimator with 118 features.\n",
      "Fitting estimator with 108 features.\n",
      "Fitting estimator with 98 features.\n",
      "Fitting estimator with 88 features.\n",
      "Fitting estimator with 78 features.\n",
      "Fitting estimator with 68 features.\n",
      "Fitting estimator with 58 features.\n",
      "Fitting estimator with 48 features.\n",
      "Fitting estimator with 38 features.\n",
      "Fitting estimator with 28 features.\n",
      "Fitting estimator with 18 features.\n",
      "Fitting estimator with 8 features.\n",
      "RFE took:  4689.583829  seconds\n"
     ]
    }
   ],
   "source": [
    "tc= datetime.now()\n",
    "medium_selector = sklearn.feature_selection.RFECV(gbm, \n",
    "                                           step= 10, \n",
    "                                           cv= 3,\n",
    "                                           scoring= scoring_function,\n",
    "                                           verbose=1\n",
    "                                          )\n",
    "medium_selector.fit(X_train, y_train)\n",
    "print 'RFE took: ',(datetime.now() - tc).total_seconds(),' seconds'"
   ]
  },
  {
   "cell_type": "code",
   "execution_count": 12,
   "metadata": {
    "collapsed": true
   },
   "outputs": [],
   "source": [
    "pkl.dump(medium_selector,open('selector_medium.pkl','wb'))"
   ]
  },
  {
   "cell_type": "code",
   "execution_count": 14,
   "metadata": {
    "collapsed": false
   },
   "outputs": [
    {
     "data": {
      "text/plain": [
       "(0.26, 0.28)"
      ]
     },
     "execution_count": 14,
     "metadata": {},
     "output_type": "execute_result"
    },
    {
     "data": {
      "image/png": "[encoded data removed]",
      "text/plain": [
       "<matplotlib.figure.Figure at 0x28dfe7750>"
      ]
     },
     "metadata": {},
     "output_type": "display_data"
    }
   ],
   "source": [
    "plt.plot(range(len(medium_selector.grid_scores_)), medium_selector.grid_scores_)\n",
    "plt.ylim([0.26,0.28])"
   ]
  },
  {
   "cell_type": "markdown",
   "metadata": {},
   "source": [
    "Ooooh, back up a little bit"
   ]
  },
  {
   "cell_type": "code",
   "execution_count": 6,
   "metadata": {
    "collapsed": false
   },
   "outputs": [],
   "source": [
    "start_again_mask= light_selector.ranking_ < 3"
   ]
  },
  {
   "cell_type": "code",
   "execution_count": 7,
   "metadata": {
    "collapsed": true
   },
   "outputs": [],
   "source": [
    "X_train= np.load(open('full_train_matrix_wp007.bin','rb'))\n",
    "n= np.shape(X_train)[0]\n",
    "X_train= X_train[0:n/2,:]\n",
    "y_train= np.load(open('full_train_labels_wp007.bin','rb'))\n",
    "y_train= y_train[0:n/2]"
   ]
  },
  {
   "cell_type": "code",
   "execution_count": 8,
   "metadata": {
    "collapsed": true
   },
   "outputs": [],
   "source": [
    "X_train= X_train[ :, np.where(start_again_mask)[0]]"
   ]
  },
  {
   "cell_type": "code",
   "execution_count": 9,
   "metadata": {
    "collapsed": false
   },
   "outputs": [
    {
     "name": "stdout",
     "output_type": "stream",
     "text": [
      "Fitting estimator with 348 features.\n",
      "Fitting estimator with 346 features.\n",
      "Fitting estimator with 344 features.\n",
      "Fitting estimator with 342 features.\n",
      "Fitting estimator with 340 features.\n",
      "Fitting estimator with 338 features.\n",
      "Fitting estimator with 336 features.\n",
      "Fitting estimator with 334 features.\n",
      "Fitting estimator with 332 features.\n",
      "Fitting estimator with 330 features.\n",
      "Fitting estimator with 328 features.\n",
      "Fitting estimator with 326 features.\n",
      "Fitting estimator with 324 features.\n",
      "Fitting estimator with 322 features.\n",
      "Fitting estimator with 320 features.\n",
      "Fitting estimator with 318 features.\n",
      "Fitting estimator with 316 features.\n",
      "Fitting estimator with 314 features.\n",
      "Fitting estimator with 312 features.\n",
      "Fitting estimator with 310 features.\n",
      "Fitting estimator with 308 features.\n",
      "Fitting estimator with 306 features.\n",
      "Fitting estimator with 304 features.\n",
      "Fitting estimator with 302 features.\n",
      "Fitting estimator with 300 features.\n",
      "Fitting estimator with 298 features.\n",
      "Fitting estimator with 296 features.\n",
      "Fitting estimator with 294 features.\n",
      "Fitting estimator with 292 features.\n",
      "Fitting estimator with 290 features.\n",
      "Fitting estimator with 288 features.\n",
      "Fitting estimator with 286 features.\n",
      "Fitting estimator with 284 features.\n",
      "Fitting estimator with 282 features.\n",
      "Fitting estimator with 280 features.\n",
      "Fitting estimator with 278 features.\n",
      "Fitting estimator with 276 features.\n",
      "Fitting estimator with 274 features.\n",
      "Fitting estimator with 272 features.\n",
      "Fitting estimator with 270 features.\n",
      "Fitting estimator with 268 features.\n",
      "Fitting estimator with 266 features.\n",
      "Fitting estimator with 264 features.\n",
      "Fitting estimator with 262 features.\n",
      "Fitting estimator with 260 features.\n",
      "Fitting estimator with 258 features.\n",
      "Fitting estimator with 256 features.\n",
      "Fitting estimator with 254 features.\n",
      "Fitting estimator with 252 features.\n",
      "Fitting estimator with 250 features.\n",
      "Fitting estimator with 248 features.\n",
      "Fitting estimator with 246 features.\n",
      "Fitting estimator with 244 features.\n",
      "Fitting estimator with 242 features.\n",
      "Fitting estimator with 240 features.\n",
      "Fitting estimator with 238 features.\n",
      "Fitting estimator with 236 features.\n",
      "Fitting estimator with 234 features.\n",
      "Fitting estimator with 232 features.\n",
      "Fitting estimator with 230 features.\n",
      "Fitting estimator with 228 features.\n",
      "Fitting estimator with 226 features.\n",
      "Fitting estimator with 224 features.\n",
      "Fitting estimator with 222 features.\n",
      "Fitting estimator with 220 features.\n",
      "Fitting estimator with 218 features.\n",
      "Fitting estimator with 216 features.\n",
      "Fitting estimator with 214 features.\n",
      "Fitting estimator with 212 features.\n",
      "Fitting estimator with 210 features.\n",
      "Fitting estimator with 208 features.\n",
      "Fitting estimator with 206 features.\n",
      "Fitting estimator with 204 features.\n",
      "Fitting estimator with 202 features.\n",
      "Fitting estimator with 200 features.\n",
      "Fitting estimator with 198 features.\n",
      "Fitting estimator with 196 features.\n",
      "Fitting estimator with 194 features.\n",
      "Fitting estimator with 192 features.\n",
      "Fitting estimator with 190 features.\n",
      "Fitting estimator with 188 features.\n",
      "Fitting estimator with 186 features.\n",
      "Fitting estimator with 184 features.\n",
      "Fitting estimator with 182 features.\n",
      "Fitting estimator with 180 features.\n",
      "Fitting estimator with 178 features.\n",
      "Fitting estimator with 176 features.\n",
      "Fitting estimator with 174 features.\n",
      "Fitting estimator with 172 features.\n",
      "Fitting estimator with 170 features.\n",
      "Fitting estimator with 168 features.\n",
      "Fitting estimator with 166 features.\n",
      "Fitting estimator with 164 features.\n",
      "Fitting estimator with 162 features.\n",
      "Fitting estimator with 160 features.\n",
      "Fitting estimator with 158 features.\n",
      "Fitting estimator with 156 features.\n",
      "Fitting estimator with 154 features.\n",
      "Fitting estimator with 152 features.\n",
      "Fitting estimator with 150 features.\n",
      "Fitting estimator with 148 features.\n",
      "Fitting estimator with 146 features.\n",
      "Fitting estimator with 144 features.\n",
      "Fitting estimator with 142 features.\n",
      "Fitting estimator with 140 features.\n",
      "Fitting estimator with 138 features.\n",
      "Fitting estimator with 136 features.\n",
      "Fitting estimator with 134 features.\n",
      "Fitting estimator with 132 features.\n",
      "Fitting estimator with 130 features.\n",
      "Fitting estimator with 128 features.\n",
      "Fitting estimator with 126 features.\n",
      "Fitting estimator with 124 features.\n",
      "Fitting estimator with 122 features.\n",
      "Fitting estimator with 120 features.\n",
      "Fitting estimator with 118 features.\n",
      "Fitting estimator with 116 features.\n",
      "Fitting estimator with 114 features.\n",
      "Fitting estimator with 112 features.\n",
      "Fitting estimator with 110 features.\n",
      "Fitting estimator with 108 features.\n",
      "Fitting estimator with 106 features.\n",
      "Fitting estimator with 104 features.\n",
      "Fitting estimator with 102 features.\n",
      "Fitting estimator with 100 features.\n",
      "Fitting estimator with 98 features.\n",
      "Fitting estimator with 96 features.\n",
      "Fitting estimator with 94 features.\n",
      "Fitting estimator with 92 features.\n",
      "Fitting estimator with 90 features.\n",
      "Fitting estimator with 88 features.\n",
      "Fitting estimator with 86 features.\n",
      "Fitting estimator with 84 features.\n",
      "Fitting estimator with 82 features.\n",
      "Fitting estimator with 80 features.\n",
      "Fitting estimator with 78 features.\n",
      "Fitting estimator with 76 features.\n",
      "Fitting estimator with 74 features.\n",
      "Fitting estimator with 72 features.\n",
      "Fitting estimator with 70 features.\n",
      "Fitting estimator with 68 features.\n",
      "Fitting estimator with 66 features.\n",
      "Fitting estimator with 64 features.\n",
      "Fitting estimator with 62 features.\n",
      "Fitting estimator with 60 features.\n",
      "Fitting estimator with 58 features.\n",
      "Fitting estimator with 56 features.\n",
      "Fitting estimator with 54 features.\n",
      "Fitting estimator with 52 features.\n",
      "Fitting estimator with 50 features.\n",
      "Fitting estimator with 48 features.\n",
      "Fitting estimator with 46 features.\n",
      "Fitting estimator with 44 features.\n",
      "Fitting estimator with 42 features.\n",
      "Fitting estimator with 40 features.\n",
      "Fitting estimator with 38 features.\n",
      "Fitting estimator with 36 features.\n",
      "Fitting estimator with 34 features.\n",
      "Fitting estimator with 32 features.\n",
      "Fitting estimator with 30 features.\n",
      "Fitting estimator with 28 features.\n",
      "Fitting estimator with 26 features.\n",
      "Fitting estimator with 24 features.\n",
      "Fitting estimator with 22 features.\n",
      "Fitting estimator with 20 features.\n",
      "Fitting estimator with 18 features.\n",
      "Fitting estimator with 16 features.\n",
      "Fitting estimator with 14 features.\n",
      "Fitting estimator with 12 features.\n",
      "Fitting estimator with 10 features.\n",
      "Fitting estimator with 8 features.\n",
      "Fitting estimator with 6 features.\n",
      "Fitting estimator with 4 features.\n",
      "Fitting estimator with 2 features.\n",
      "Fitting estimator with 348 features.\n",
      "Fitting estimator with 346 features.\n",
      "Fitting estimator with 344 features.\n",
      "Fitting estimator with 342 features.\n",
      "Fitting estimator with 340 features.\n",
      "Fitting estimator with 338 features.\n",
      "Fitting estimator with 336 features.\n",
      "Fitting estimator with 334 features.\n",
      "Fitting estimator with 332 features.\n",
      "Fitting estimator with 330 features.\n",
      "Fitting estimator with 328 features.\n",
      "Fitting estimator with 326 features.\n",
      "Fitting estimator with 324 features.\n",
      "Fitting estimator with 322 features.\n",
      "Fitting estimator with 320 features.\n",
      "Fitting estimator with 318 features.\n",
      "Fitting estimator with 316 features.\n",
      "Fitting estimator with 314 features.\n",
      "Fitting estimator with 312 features.\n",
      "Fitting estimator with 310 features.\n",
      "Fitting estimator with 308 features.\n",
      "Fitting estimator with 306 features.\n",
      "Fitting estimator with 304 features.\n",
      "Fitting estimator with 302 features.\n",
      "Fitting estimator with 300 features.\n",
      "Fitting estimator with 298 features.\n",
      "Fitting estimator with 296 features.\n",
      "Fitting estimator with 294 features.\n",
      "Fitting estimator with 292 features.\n",
      "Fitting estimator with 290 features.\n",
      "Fitting estimator with 288 features.\n",
      "Fitting estimator with 286 features.\n",
      "Fitting estimator with 284 features.\n",
      "Fitting estimator with 282 features.\n",
      "Fitting estimator with 280 features.\n",
      "Fitting estimator with 278 features.\n",
      "Fitting estimator with 276 features.\n",
      "Fitting estimator with 274 features.\n",
      "Fitting estimator with 272 features.\n",
      "Fitting estimator with 270 features.\n",
      "Fitting estimator with 268 features.\n",
      "Fitting estimator with 266 features.\n",
      "Fitting estimator with 264 features.\n",
      "Fitting estimator with 262 features.\n",
      "Fitting estimator with 260 features.\n",
      "Fitting estimator with 258 features.\n",
      "Fitting estimator with 256 features.\n",
      "Fitting estimator with 254 features.\n",
      "Fitting estimator with 252 features.\n",
      "Fitting estimator with 250 features.\n",
      "Fitting estimator with 248 features.\n",
      "Fitting estimator with 246 features.\n",
      "Fitting estimator with 244 features.\n",
      "Fitting estimator with 242 features.\n",
      "Fitting estimator with 240 features.\n",
      "Fitting estimator with 238 features.\n",
      "Fitting estimator with 236 features.\n",
      "Fitting estimator with 234 features.\n",
      "Fitting estimator with 232 features.\n",
      "Fitting estimator with 230 features.\n",
      "Fitting estimator with 228 features.\n",
      "Fitting estimator with 226 features.\n",
      "Fitting estimator with 224 features.\n",
      "Fitting estimator with 222 features.\n",
      "Fitting estimator with 220 features.\n",
      "Fitting estimator with 218 features.\n",
      "Fitting estimator with 216 features.\n",
      "Fitting estimator with 214 features.\n",
      "Fitting estimator with 212 features.\n",
      "Fitting estimator with 210 features.\n",
      "Fitting estimator with 208 features.\n",
      "Fitting estimator with 206 features.\n",
      "Fitting estimator with 204 features.\n",
      "Fitting estimator with 202 features.\n",
      "Fitting estimator with 200 features.\n",
      "Fitting estimator with 198 features.\n",
      "Fitting estimator with 196 features.\n",
      "Fitting estimator with 194 features.\n",
      "Fitting estimator with 192 features.\n",
      "Fitting estimator with 190 features.\n",
      "Fitting estimator with 188 features.\n",
      "Fitting estimator with 186 features.\n",
      "Fitting estimator with 184 features.\n",
      "Fitting estimator with 182 features.\n",
      "Fitting estimator with 180 features.\n",
      "Fitting estimator with 178 features.\n",
      "Fitting estimator with 176 features.\n",
      "Fitting estimator with 174 features.\n",
      "Fitting estimator with 172 features.\n",
      "Fitting estimator with 170 features.\n",
      "Fitting estimator with 168 features.\n",
      "Fitting estimator with 166 features.\n",
      "Fitting estimator with 164 features.\n",
      "Fitting estimator with 162 features.\n",
      "Fitting estimator with 160 features.\n",
      "Fitting estimator with 158 features.\n",
      "Fitting estimator with 156 features.\n",
      "Fitting estimator with 154 features.\n",
      "Fitting estimator with 152 features.\n",
      "Fitting estimator with 150 features.\n",
      "Fitting estimator with 148 features.\n",
      "Fitting estimator with 146 features.\n",
      "Fitting estimator with 144 features.\n",
      "Fitting estimator with 142 features.\n",
      "Fitting estimator with 140 features.\n",
      "Fitting estimator with 138 features.\n",
      "Fitting estimator with 136 features.\n",
      "Fitting estimator with 134 features.\n",
      "Fitting estimator with 132 features.\n",
      "Fitting estimator with 130 features.\n",
      "Fitting estimator with 128 features.\n",
      "Fitting estimator with 126 features.\n",
      "Fitting estimator with 124 features.\n",
      "Fitting estimator with 122 features.\n",
      "Fitting estimator with 120 features.\n",
      "Fitting estimator with 118 features.\n",
      "Fitting estimator with 116 features.\n",
      "Fitting estimator with 114 features.\n",
      "Fitting estimator with 112 features.\n",
      "Fitting estimator with 110 features.\n",
      "Fitting estimator with 108 features.\n",
      "Fitting estimator with 106 features.\n",
      "Fitting estimator with 104 features.\n",
      "Fitting estimator with 102 features.\n",
      "Fitting estimator with 100 features.\n",
      "Fitting estimator with 98 features.\n",
      "Fitting estimator with 96 features.\n",
      "Fitting estimator with 94 features.\n",
      "Fitting estimator with 92 features.\n",
      "Fitting estimator with 90 features.\n",
      "Fitting estimator with 88 features.\n",
      "Fitting estimator with 86 features.\n",
      "Fitting estimator with 84 features.\n",
      "Fitting estimator with 82 features.\n",
      "Fitting estimator with 80 features.\n",
      "Fitting estimator with 78 features.\n",
      "Fitting estimator with 76 features.\n",
      "Fitting estimator with 74 features.\n",
      "Fitting estimator with 72 features.\n",
      "Fitting estimator with 70 features.\n",
      "Fitting estimator with 68 features.\n",
      "Fitting estimator with 66 features.\n",
      "Fitting estimator with 64 features.\n",
      "Fitting estimator with 62 features.\n",
      "Fitting estimator with 60 features.\n",
      "Fitting estimator with 58 features.\n",
      "Fitting estimator with 56 features.\n",
      "Fitting estimator with 54 features.\n",
      "Fitting estimator with 52 features.\n",
      "Fitting estimator with 50 features.\n",
      "Fitting estimator with 48 features.\n",
      "Fitting estimator with 46 features.\n",
      "Fitting estimator with 44 features.\n",
      "Fitting estimator with 42 features.\n",
      "Fitting estimator with 40 features.\n",
      "Fitting estimator with 38 features.\n",
      "Fitting estimator with 36 features.\n",
      "Fitting estimator with 34 features.\n",
      "Fitting estimator with 32 features.\n",
      "Fitting estimator with 30 features.\n",
      "Fitting estimator with 28 features.\n",
      "Fitting estimator with 26 features.\n",
      "Fitting estimator with 24 features.\n",
      "Fitting estimator with 22 features.\n",
      "Fitting estimator with 20 features.\n",
      "Fitting estimator with 18 features.\n",
      "Fitting estimator with 16 features.\n",
      "Fitting estimator with 14 features.\n",
      "Fitting estimator with 12 features.\n",
      "Fitting estimator with 10 features.\n",
      "Fitting estimator with 8 features.\n",
      "Fitting estimator with 6 features.\n",
      "Fitting estimator with 4 features.\n",
      "Fitting estimator with 2 features.\n",
      "Fitting estimator with 348 features.\n",
      "Fitting estimator with 346 features.\n",
      "Fitting estimator with 344 features.\n",
      "Fitting estimator with 342 features.\n",
      "Fitting estimator with 340 features.\n",
      "Fitting estimator with 338 features.\n",
      "Fitting estimator with 336 features.\n",
      "Fitting estimator with 334 features.\n",
      "Fitting estimator with 332 features.\n",
      "Fitting estimator with 330 features.\n",
      "Fitting estimator with 328 features.\n",
      "Fitting estimator with 326 features.\n",
      "Fitting estimator with 324 features.\n",
      "Fitting estimator with 322 features.\n",
      "Fitting estimator with 320 features.\n",
      "Fitting estimator with 318 features.\n",
      "Fitting estimator with 316 features.\n",
      "Fitting estimator with 314 features.\n",
      "Fitting estimator with 312 features.\n",
      "Fitting estimator with 310 features.\n",
      "Fitting estimator with 308 features.\n",
      "Fitting estimator with 306 features.\n",
      "Fitting estimator with 304 features.\n",
      "Fitting estimator with 302 features.\n",
      "Fitting estimator with 300 features.\n",
      "Fitting estimator with 298 features.\n",
      "Fitting estimator with 296 features.\n",
      "Fitting estimator with 294 features.\n",
      "Fitting estimator with 292 features.\n",
      "Fitting estimator with 290 features.\n",
      "Fitting estimator with 288 features.\n",
      "Fitting estimator with 286 features.\n",
      "Fitting estimator with 284 features.\n",
      "Fitting estimator with 282 features.\n",
      "Fitting estimator with 280 features.\n",
      "Fitting estimator with 278 features.\n",
      "Fitting estimator with 276 features.\n",
      "Fitting estimator with 274 features.\n",
      "Fitting estimator with 272 features.\n",
      "Fitting estimator with 270 features.\n",
      "Fitting estimator with 268 features.\n",
      "Fitting estimator with 266 features.\n",
      "Fitting estimator with 264 features.\n",
      "Fitting estimator with 262 features.\n",
      "Fitting estimator with 260 features.\n",
      "Fitting estimator with 258 features.\n",
      "Fitting estimator with 256 features.\n",
      "Fitting estimator with 254 features.\n",
      "Fitting estimator with 252 features.\n",
      "Fitting estimator with 250 features.\n",
      "Fitting estimator with 248 features.\n",
      "Fitting estimator with 246 features.\n",
      "Fitting estimator with 244 features.\n",
      "Fitting estimator with 242 features.\n",
      "Fitting estimator with 240 features.\n",
      "Fitting estimator with 238 features.\n",
      "Fitting estimator with 236 features.\n",
      "Fitting estimator with 234 features.\n",
      "Fitting estimator with 232 features.\n",
      "Fitting estimator with 230 features.\n",
      "Fitting estimator with 228 features.\n",
      "Fitting estimator with 226 features.\n",
      "Fitting estimator with 224 features.\n",
      "Fitting estimator with 222 features.\n",
      "Fitting estimator with 220 features.\n",
      "Fitting estimator with 218 features.\n",
      "Fitting estimator with 216 features.\n",
      "Fitting estimator with 214 features.\n",
      "Fitting estimator with 212 features.\n",
      "Fitting estimator with 210 features.\n",
      "Fitting estimator with 208 features.\n",
      "Fitting estimator with 206 features.\n",
      "Fitting estimator with 204 features.\n",
      "Fitting estimator with 202 features.\n",
      "Fitting estimator with 200 features.\n",
      "Fitting estimator with 198 features.\n",
      "Fitting estimator with 196 features.\n",
      "Fitting estimator with 194 features.\n",
      "Fitting estimator with 192 features.\n",
      "Fitting estimator with 190 features.\n",
      "Fitting estimator with 188 features.\n",
      "Fitting estimator with 186 features.\n",
      "Fitting estimator with 184 features.\n",
      "Fitting estimator with 182 features.\n",
      "Fitting estimator with 180 features.\n",
      "Fitting estimator with 178 features.\n",
      "Fitting estimator with 176 features.\n",
      "Fitting estimator with 174 features.\n",
      "Fitting estimator with 172 features.\n",
      "Fitting estimator with 170 features.\n",
      "Fitting estimator with 168 features.\n",
      "Fitting estimator with 166 features.\n",
      "Fitting estimator with 164 features.\n",
      "Fitting estimator with 162 features.\n",
      "Fitting estimator with 160 features.\n",
      "Fitting estimator with 158 features.\n",
      "Fitting estimator with 156 features.\n",
      "Fitting estimator with 154 features.\n",
      "Fitting estimator with 152 features.\n",
      "Fitting estimator with 150 features.\n",
      "Fitting estimator with 148 features.\n",
      "Fitting estimator with 146 features.\n",
      "Fitting estimator with 144 features.\n",
      "Fitting estimator with 142 features.\n",
      "Fitting estimator with 140 features.\n",
      "Fitting estimator with 138 features.\n",
      "Fitting estimator with 136 features.\n",
      "Fitting estimator with 134 features.\n",
      "Fitting estimator with 132 features.\n",
      "Fitting estimator with 130 features.\n",
      "Fitting estimator with 128 features.\n",
      "Fitting estimator with 126 features.\n",
      "Fitting estimator with 124 features.\n",
      "Fitting estimator with 122 features.\n",
      "Fitting estimator with 120 features.\n",
      "Fitting estimator with 118 features.\n",
      "Fitting estimator with 116 features.\n",
      "Fitting estimator with 114 features.\n",
      "Fitting estimator with 112 features.\n",
      "Fitting estimator with 110 features.\n",
      "Fitting estimator with 108 features.\n",
      "Fitting estimator with 106 features.\n",
      "Fitting estimator with 104 features.\n",
      "Fitting estimator with 102 features.\n",
      "Fitting estimator with 100 features.\n",
      "Fitting estimator with 98 features.\n",
      "Fitting estimator with 96 features.\n",
      "Fitting estimator with 94 features.\n",
      "Fitting estimator with 92 features.\n",
      "Fitting estimator with 90 features.\n",
      "Fitting estimator with 88 features.\n",
      "Fitting estimator with 86 features.\n",
      "Fitting estimator with 84 features.\n",
      "Fitting estimator with 82 features.\n",
      "Fitting estimator with 80 features.\n",
      "Fitting estimator with 78 features.\n",
      "Fitting estimator with 76 features.\n",
      "Fitting estimator with 74 features.\n",
      "Fitting estimator with 72 features.\n",
      "Fitting estimator with 70 features.\n",
      "Fitting estimator with 68 features.\n",
      "Fitting estimator with 66 features.\n",
      "Fitting estimator with 64 features.\n",
      "Fitting estimator with 62 features.\n",
      "Fitting estimator with 60 features.\n",
      "Fitting estimator with 58 features.\n",
      "Fitting estimator with 56 features.\n",
      "Fitting estimator with 54 features.\n",
      "Fitting estimator with 52 features.\n",
      "Fitting estimator with 50 features.\n",
      "Fitting estimator with 48 features.\n",
      "Fitting estimator with 46 features.\n",
      "Fitting estimator with 44 features.\n",
      "Fitting estimator with 42 features.\n",
      "Fitting estimator with 40 features.\n",
      "Fitting estimator with 38 features.\n",
      "Fitting estimator with 36 features.\n",
      "Fitting estimator with 34 features.\n",
      "Fitting estimator with 32 features.\n",
      "Fitting estimator with 30 features.\n",
      "Fitting estimator with 28 features.\n",
      "Fitting estimator with 26 features.\n",
      "Fitting estimator with 24 features.\n",
      "Fitting estimator with 22 features.\n",
      "Fitting estimator with 20 features.\n",
      "Fitting estimator with 18 features.\n",
      "Fitting estimator with 16 features.\n",
      "Fitting estimator with 14 features.\n",
      "Fitting estimator with 12 features.\n",
      "Fitting estimator with 10 features.\n",
      "Fitting estimator with 8 features.\n",
      "Fitting estimator with 6 features.\n",
      "Fitting estimator with 4 features.\n",
      "Fitting estimator with 2 features.\n",
      "RFE took:  38046.802047  seconds\n"
     ]
    }
   ],
   "source": [
    "tc= datetime.now()\n",
    "heavy_selector = sklearn.feature_selection.RFECV(gbm, \n",
    "                                           step= 2, \n",
    "                                           cv= 3,\n",
    "                                           scoring= scoring_function,\n",
    "                                           verbose=1\n",
    "                                          )\n",
    "heavy_selector.fit(X_train, y_train)\n",
    "print 'RFE took: ',(datetime.now() - tc).total_seconds(),' seconds'"
   ]
  },
  {
   "cell_type": "code",
   "execution_count": 10,
   "metadata": {
    "collapsed": true
   },
   "outputs": [],
   "source": [
    "pkl.dump(heavy_selector,open('selector_heavy.pkl','wb'))"
   ]
  },
  {
   "cell_type": "code",
   "execution_count": 11,
   "metadata": {
    "collapsed": false
   },
   "outputs": [
    {
     "data": {
      "text/plain": [
       "(0.26, 0.28)"
      ]
     },
     "execution_count": 11,
     "metadata": {},
     "output_type": "execute_result"
    },
    {
     "data": {
      "image/png": "[encoded data removed]",
      "text/plain": [
       "<matplotlib.figure.Figure at 0x1178ed910>"
      ]
     },
     "metadata": {},
     "output_type": "display_data"
    }
   ],
   "source": [
    "plt.plot(range(len(heavy_selector.grid_scores_)), heavy_selector.grid_scores_)\n",
    "plt.ylim([0.26,0.28])"
   ]
  },
  {
   "cell_type": "markdown",
   "metadata": {
    "collapsed": true
   },
   "source": [
    "Prep output mask"
   ]
  },
  {
   "cell_type": "code",
   "execution_count": 5,
   "metadata": {
    "collapsed": true
   },
   "outputs": [],
   "source": [
    "heavy_selector= pkl.load(open('selector_heavy.pkl','rb'))"
   ]
  },
  {
   "cell_type": "code",
   "execution_count": 8,
   "metadata": {
    "collapsed": false
   },
   "outputs": [
    {
     "data": {
      "text/plain": [
       "(0.26, 0.28)"
      ]
     },
     "execution_count": 8,
     "metadata": {},
     "output_type": "execute_result"
    },
    {
     "data": {
      "image/png": "[encoded data removed]",
      "text/plain": [
       "<matplotlib.figure.Figure at 0x1178f4390>"
      ]
     },
     "metadata": {},
     "output_type": "display_data"
    }
   ],
   "source": [
    "plt.plot(np.array(range(len(heavy_selector.grid_scores_)))*2., heavy_selector.grid_scores_)\n",
    "plt.ylim([0.26,0.28])"
   ]
  },
  {
   "cell_type": "code",
   "execution_count": 9,
   "metadata": {
    "collapsed": true
   },
   "outputs": [],
   "source": [
    "medium_selector= pkl.load(open('selector_medium.pkl','rb'))"
   ]
  },
  {
   "cell_type": "code",
   "execution_count": 11,
   "metadata": {
    "collapsed": false
   },
   "outputs": [
    {
     "data": {
      "text/plain": [
       "(0.26, 0.28)"
      ]
     },
     "execution_count": 11,
     "metadata": {},
     "output_type": "execute_result"
    },
    {
     "data": {
      "image/png": "[encoded data removed]",
      "text/plain": [
       "<matplotlib.figure.Figure at 0x119aa0610>"
      ]
     },
     "metadata": {},
     "output_type": "display_data"
    }
   ],
   "source": [
    "plt.plot(np.array(range(len(medium_selector.grid_scores_)))*10., medium_selector.grid_scores_)\n",
    "plt.ylim([0.26,0.28])"
   ]
  },
  {
   "cell_type": "code",
   "execution_count": 14,
   "metadata": {
    "collapsed": false
   },
   "outputs": [
    {
     "name": "stderr",
     "output_type": "stream",
     "text": [
      "/Users/davidsutton/anaconda/lib/python2.7/site-packages/sklearn/base.py:311: UserWarning: Trying to unpickle estimator LabelEncoder from version 0.19.0 when using version 0.19.1. This might lead to breaking code or invalid results. Use at your own risk.\n",
      "  UserWarning)\n",
      "/Users/davidsutton/anaconda/lib/python2.7/site-packages/sklearn/base.py:311: UserWarning: Trying to unpickle estimator RFECV from version 0.19.0 when using version 0.19.1. This might lead to breaking code or invalid results. Use at your own risk.\n",
      "  UserWarning)\n"
     ]
    }
   ],
   "source": [
    "light_selector= pkl.load(open('selector_light.pkl','rb'))"
   ]
  },
  {
   "cell_type": "code",
   "execution_count": 15,
   "metadata": {
    "collapsed": false
   },
   "outputs": [
    {
     "data": {
      "text/plain": [
       "(0.26, 0.28)"
      ]
     },
     "execution_count": 15,
     "metadata": {},
     "output_type": "execute_result"
    },
    {
     "data": {
      "image/png": "[encoded data removed]",
      "text/plain": [
       "<matplotlib.figure.Figure at 0x119ddfc50>"
      ]
     },
     "metadata": {},
     "output_type": "display_data"
    }
   ],
   "source": [
    "plt.plot(np.array(range(len(light_selector.grid_scores_)))*100., light_selector.grid_scores_)\n",
    "plt.ylim([0.26,0.28])"
   ]
  },
  {
   "cell_type": "code",
   "execution_count": 24,
   "metadata": {
    "collapsed": false
   },
   "outputs": [
    {
     "data": {
      "text/plain": [
       "(5.0, 800.0)"
      ]
     },
     "execution_count": 24,
     "metadata": {},
     "output_type": "execute_result"
    },
    {
     "data": {
      "image/png": "[encoded data removed]",
      "text/plain": [
       "<matplotlib.figure.Figure at 0x11b79b310>"
      ]
     },
     "metadata": {},
     "output_type": "display_data"
    }
   ],
   "source": [
    "plt.semilogx(np.array(range(len(light_selector.grid_scores_)))*100. - 48., light_selector.grid_scores_,'bx')\n",
    "plt.semilogx(np.array(range(len(medium_selector.grid_scores_)))*10.-2., medium_selector.grid_scores_,'ro')\n",
    "plt.semilogx(np.array(range(len(heavy_selector.grid_scores_)))*2., heavy_selector.grid_scores_,'g-')\n",
    "plt.ylim([0.26,0.28])\n",
    "plt.xlim([5.,800.])"
   ]
  },
  {
   "cell_type": "markdown",
   "metadata": {},
   "source": [
    "248 seems pretty good, though its unsettling that the heavy selector is discrepant at 150+ features..."
   ]
  },
  {
   "cell_type": "code",
   "execution_count": 25,
   "metadata": {
    "collapsed": false
   },
   "outputs": [],
   "source": [
    "X_train= np.load(open('full_train_matrix_wp007.bin','rb'))"
   ]
  },
  {
   "cell_type": "code",
   "execution_count": 36,
   "metadata": {
    "collapsed": true
   },
   "outputs": [],
   "source": [
    "column_mask= np.where(light_selector.support_)[0]"
   ]
  },
  {
   "cell_type": "code",
   "execution_count": 38,
   "metadata": {
    "collapsed": false
   },
   "outputs": [
    {
     "data": {
      "text/plain": [
       "array([  0,   1,   3,   6,   9,  10,  11,  21,  26,  28,  29,  30,  31,\n",
       "        32,  33,  34,  35,  36,  37,  38,  39,  40,  41,  42,  43,  44,\n",
       "        45,  46,  47,  48,  49,  50,  52,  53,  54,  55,  56,  57,  58,\n",
       "        59,  60,  62,  63,  64,  65,  66,  67,  68,  69,  70,  71,  72,\n",
       "        73,  74,  98,  99, 100, 101, 102, 103, 104, 105, 106, 107, 108,\n",
       "       109, 110, 111, 112, 113, 114, 115, 116, 117, 118, 119, 120, 121,\n",
       "       122, 123, 124, 125, 126, 127, 128, 129, 130, 131, 133, 134, 135,\n",
       "       136, 137, 139, 142, 144, 147, 148, 149, 152, 155, 158, 161, 162,\n",
       "       163, 164, 165, 166, 167, 168, 169, 170, 171, 172, 173, 174, 175,\n",
       "       177, 179, 181, 182, 183, 185, 186, 188, 190, 191, 193, 194, 197,\n",
       "       198, 199, 200, 205, 206, 208, 210, 214, 216, 219, 220, 222, 223,\n",
       "       224, 226, 229, 230, 231, 234, 237, 239, 240, 241, 242, 244, 245,\n",
       "       249, 250, 251, 253, 256, 258, 259, 262, 263, 267, 270, 272, 273,\n",
       "       275, 279, 280, 281, 282, 283, 284, 285, 288, 290, 291, 292, 293,\n",
       "       294, 295, 299, 300, 301, 305, 307, 308, 309, 310, 311, 314, 315,\n",
       "       316, 318, 322, 323, 326, 329, 331, 335, 336, 337, 338, 339, 341,\n",
       "       344, 346, 347, 348, 349, 350, 351, 352, 353, 355, 356, 360, 361,\n",
       "       363, 365, 366, 369, 373, 375, 376, 378, 386, 390, 391, 395, 396,\n",
       "       433, 448, 516, 581, 591, 609, 622, 623, 651, 675, 723, 743, 779, 781])"
      ]
     },
     "execution_count": 38,
     "metadata": {},
     "output_type": "execute_result"
    }
   ],
   "source": [
    "column_mask"
   ]
  },
  {
   "cell_type": "code",
   "execution_count": 41,
   "metadata": {
    "collapsed": false
   },
   "outputs": [],
   "source": [
    "with open('full_248_train.csv','wb') as fout:\n",
    "    # print header\n",
    "    fout.write(','.join(['x_'+str(i) for i in column_mask]) + '\\n')\n",
    "    #\n",
    "    # print each line\n",
    "    for i in range(np.shape(X_train)[0]):\n",
    "        fout.write(','.join([str(x) for x in X_train[i,column_mask]]) + '\\n')"
   ]
  },
  {
   "cell_type": "markdown",
   "metadata": {
    "collapsed": true
   },
   "source": [
    "Have ANOTHER go"
   ]
  },
  {
   "cell_type": "code",
   "execution_count": 5,
   "metadata": {
    "collapsed": false
   },
   "outputs": [
    {
     "name": "stderr",
     "output_type": "stream",
     "text": [
      "/Users/davidsutton/anaconda/lib/python2.7/site-packages/sklearn/cross_validation.py:41: DeprecationWarning: This module was deprecated in version 0.18 in favor of the model_selection module into which all the refactored classes and functions are moved. Also note that the interface of the new CV iterators are different from that of this module. This module will be removed in 0.20.\n",
      "  \"This module will be removed in 0.20.\", DeprecationWarning)\n"
     ]
    }
   ],
   "source": [
    "import sklearn.cross_validation\n",
    "X_train= np.load(open('full_train_matrix_wp007.bin','rb'))\n",
    "n= np.shape(X_train)[0]\n",
    "# X_train= X_train[0:n/2,:]\n",
    "y_train= np.load(open('full_train_labels_wp007.bin','rb'))\n",
    "# y_train= y_train[0:n/2]\n",
    "\n",
    "train,test= sklearn.cross_validation.train_test_split(range(n),test_size= 0.33,random_state=0)\n",
    "\n",
    "X_test= X_train[test,:]\n",
    "X_train= X_train[train,:]\n",
    "y_test= y_train[test]\n",
    "y_train= y_train[train]"
   ]
  },
  {
   "cell_type": "code",
   "execution_count": 8,
   "metadata": {
    "collapsed": false
   },
   "outputs": [
    {
     "data": {
      "text/plain": [
       "0.10903400480790659"
      ]
     },
     "execution_count": 8,
     "metadata": {},
     "output_type": "execute_result"
    }
   ],
   "source": [
    "import random"
   ]
  },
  {
   "cell_type": "code",
   "execution_count": 9,
   "metadata": {
    "collapsed": true
   },
   "outputs": [],
   "source": [
    "downsample= np.array(filter(lambda x: True if ( y_train[x]==1 or random.random() < 0.5 ) else False,\n",
    "                            range(np.shape(X_train)[0])\n",
    "                           )\n",
    "                    )"
   ]
  },
  {
   "cell_type": "code",
   "execution_count": 14,
   "metadata": {
    "collapsed": false
   },
   "outputs": [],
   "source": [
    "y_train= y_train[downsample]\n",
    "X_train= X_train[downsample,:]"
   ]
  },
  {
   "cell_type": "code",
   "execution_count": null,
   "metadata": {
    "collapsed": false
   },
   "outputs": [],
   "source": [
    "# # Read in wp007 feature set and split into train and test\n",
    "# import sklearn.cross_validation\n",
    "# df= pd.read_csv('../data/train.csv',usecols= ['id','target'])\n",
    "# train,test= sklearn.cross_validation.train_test_split(range(df['target'].count()),test_size= 0.33,random_state=0)\n",
    "# y_train= df.target.values[train]\n",
    "# y_test= df.target.values[test]\n",
    "# df2= pd.read_csv('../wp007/full_248_train.csv')\n",
    "# X_train= df2.as_matrix()[train,:]\n",
    "# X_test= df2.as_matrix()[test,:]"
   ]
  },
  {
   "cell_type": "code",
   "execution_count": 15,
   "metadata": {
    "collapsed": false
   },
   "outputs": [],
   "source": [
    "import copy\n",
    "import sklearn.metrics"
   ]
  },
  {
   "cell_type": "code",
   "execution_count": 16,
   "metadata": {
    "collapsed": false
   },
   "outputs": [
    {
     "name": "stdout",
     "output_type": "stream",
     "text": [
      "169 0.276748856907 226.158101\n",
      "164 0.276196281972 204.463103\n",
      "159 0.275637893099 215.226156\n",
      "154 0.275808812777 206.345062\n",
      "149 0.275984068047 191.550327\n",
      "144 0.275700862335 182.908114\n",
      "139 0.27489501523 183.456478\n",
      "134 0.274976627065 179.224701\n",
      "129 0.276120774995 180.184777\n",
      "124 0.275498458039 176.616991\n",
      "119 0.275928285711 174.008393\n",
      "114 0.27539012762 168.879329\n",
      "109 0.274820397339 165.142153\n",
      "104 0.2765437809 159.330913\n",
      "99 0.275388696771 153.85176\n",
      "94 0.274774823903 150.341483\n",
      "89 0.275308992241 146.500703\n",
      "84 0.275647162449 146.047195\n",
      "79 0.277186021391 141.414686\n",
      "74 0.276149181209 139.501213\n",
      "69 0.275680726547 138.320296\n",
      "64 0.275536320622 134.23608\n",
      "59 0.276333104693 134.076489\n",
      "54 0.275829252843 123.158386\n",
      "49 0.275556309466 124.090065\n",
      "44 0.275440256321 115.766906\n",
      "39 0.276490916665 112.715143\n",
      "34 0.276434530226 109.129978\n",
      "29 0.275509538214 107.033116\n",
      "24 0.2767082766 103.434098\n",
      "19 0.277066741414 99.792231\n",
      "14 0.276281234928 96.906336\n",
      "9 0.275540393496 94.605393\n",
      "4 0.276820423112 91.144183\n",
      "-1 0.2773333187 88.533093\n",
      "-6 0.27648649647 85.89064\n",
      "-11 0.275954602054 85.687126\n",
      "-16 0.277156788431 82.590274\n",
      "-21 0.276740800217 79.503442\n",
      "-26 0.277482447615 79.161701\n",
      "-31 0.276274897038 77.320682\n",
      "-36 0.276702563594 75.787859\n",
      "-41 0.274771827135 72.76931\n",
      "-46 0.275383341477 69.637419\n",
      "-51 0.275232664455 66.939113\n",
      "-56 0.276184701593 64.332221\n",
      "-61 0.276588306432 62.701699\n",
      "-66 0.276795993292 61.687826\n",
      "-71 0.274504541846 58.290976\n",
      "-76 0.274288811654 56.030503\n",
      "-81 0.273793058054 54.757387\n",
      "-86 0.273449134764 52.655345\n",
      "-91 0.272502743839 51.162063\n",
      "-96 0.271505394499 49.858227\n",
      "-101 0.272335839147 47.458578\n",
      "-106 0.269216607341 45.550609\n",
      "-111 0.26751203707 42.979535\n",
      "-116 0.268595715297 41.869658\n",
      "-121 0.263690590821 39.146243\n"
     ]
    }
   ],
   "source": [
    "step_size=5\n",
    "num_feat= np.shape(X_train)[1]\n",
    "num_steps= num_feat/step_size\n",
    "\n",
    "last_step_seen= np.zeros(num_feat,dtype=np.int32)+num_steps\n",
    "step_results= []\n",
    "indices= np.array(range(num_feat))\n",
    "i=0 \n",
    "remainers= num_feat\n",
    "while remainers > 50:\n",
    "    tc= datetime.now()\n",
    "    j= num_steps-i*step_size\n",
    "    gbm = lightgbm.sklearn.LGBMClassifier(**lgb_params)\n",
    "    gbm.fit(X_train,y_train)\n",
    "    #\n",
    "    pred= gbm.predict_proba(X_test)[:,1]\n",
    "    print j,2.*sklearn.metrics.roc_auc_score(y_test,pred)-1.0, (datetime.now() - tc).total_seconds()\n",
    "    #\n",
    "    feature_importance= gbm.feature_importances_\n",
    "    for k in range(step_size):\n",
    "        minimal= np.min(feature_importance)\n",
    "        worstFeatures= np.where(feature_importance == minimal)[0]\n",
    "        toUse= np.ones(len(feature_importance),dtype=bool)\n",
    "        for kk in worstFeatures:\n",
    "            last_step_seen[indices[kk]]=i\n",
    "            toUse[kk]= False\n",
    "            remainers -= 1\n",
    "        indices= indices[np.where(toUse)[0]]\n",
    "        feature_importance= feature_importance[np.where(toUse)[0]]\n",
    "        X_train= X_train[:,np.where(toUse)[0]]\n",
    "        X_test= X_test[:,np.where(toUse)[0]]\n",
    "    step_results.append( (j,2.*sklearn.metrics.roc_auc_score(y_test,pred)-1.0,np.shape(X_train)[1]) )\n",
    "    i+=1"
   ]
  },
  {
   "cell_type": "code",
   "execution_count": 18,
   "metadata": {
    "collapsed": false
   },
   "outputs": [],
   "source": [
    "import pickle as pkl\n",
    "pkl.dump(last_step_seen,open('last_step_seen.pkl','wb'))"
   ]
  },
  {
   "cell_type": "code",
   "execution_count": 26,
   "metadata": {
    "collapsed": false
   },
   "outputs": [
    {
     "data": {
      "text/plain": [
       "[<matplotlib.lines.Line2D at 0x118836d10>]"
      ]
     },
     "execution_count": 26,
     "metadata": {},
     "output_type": "execute_result"
    },
    {
     "data": {
      "image/png": "[encoded data removed]",
      "text/plain": [
       "<matplotlib.figure.Figure at 0x2eb11d5d0>"
      ]
     },
     "metadata": {},
     "output_type": "display_data"
    }
   ],
   "source": [
    "plt.plot( (num_steps - np.array(map(lambda x: x[0],step_results)))/step_size, map(lambda x: x[1], step_results) )"
   ]
  },
  {
   "cell_type": "code",
   "execution_count": null,
   "metadata": {
    "collapsed": false
   },
   "outputs": [],
   "source": [
    "# if 1==1:\n",
    "#     feature_importance= gbm.feature_importances_\n",
    "#     for k in range(step_size):\n",
    "#         minimal= np.min(feature_importance)\n",
    "#         worstFeatures= np.where(feature_importance == minimal)[0]\n",
    "#         print worstFeatures\n",
    "#         toUse= np.ones(len(feature_importance),dtype=bool)\n",
    "#         for kk in worstFeatures:\n",
    "#             last_step_seen[indices[kk]]=i\n",
    "#             toUse[kk]= False\n",
    "#         indices= indices[np.where(toUse)[0]]\n",
    "#         feature_importance= feature_importance[np.where(toUse)[0]]\n",
    "#         X_train= X_train[:,np.where(toUse)[0]]\n",
    "#         X_test= X_test[:,np.where(toUse)[0]]\n",
    "#     step_results.append( (j,2.*sklearn.metrics.roc_auc_score(y_test,pred)-1.0,np.shape(X_train)[1]) )"
   ]
  },
  {
   "cell_type": "code",
   "execution_count": 21,
   "metadata": {
    "collapsed": false
   },
   "outputs": [
    {
     "data": {
      "text/plain": [
       "array([ 18,  55,   0, 169,  12,   8,  48,  15,  43, 169, 169, 169,  17,\n",
       "        18,   8,   4,   4,  10,  15,  15,   7,  16,  15,   0,   4,  13,\n",
       "        27,   0,  42, 169,  38,  14,  27,  28, 169,  36,  32,  54,  36,\n",
       "        46,  53,  48,  21,  56,  14,  56,  44,  48,  22,  26,  22,   0,\n",
       "       169,  35,  39,  49, 169, 169, 169, 169,  55,  27,  52,  57,  33,\n",
       "        50, 169,  43,  41,  32,  47,  44,  42,  52,  38,   0,   0,   0,\n",
       "         0,   0,   0,   0,   0,   0,   0,   0,   0,   1,   0,   0,   0,\n",
       "         0,   0,   0,   0,   0,   7,   0,  32,  58,  35, 169,  53,  32,\n",
       "       169,  55,  24,  42,  43,  58,  20,  35,  46, 169,  49,  31,  43,\n",
       "        42,  36,  35,  50,  36,  41,  55, 169,  24, 169, 169,  43,  51,\n",
       "        48,  25,  52,  44,  50, 169,  40,  22,  30,  57,  29,  13, 169,\n",
       "        26,  57,  15,  10,  48,  47,  31,  44,  28,  22,  26,  11, 169,\n",
       "        20,  15,  55,  36,  15,  33,  36, 169,  31, 169,  38, 169,  41,\n",
       "        50,  50,  28,  38,  18,  25,  37,  33,  17,  26,  44,  25,  45,\n",
       "        57,  49,  37,  58,  40,  19,  23,  25,  23, 169,  36,  27, 169,\n",
       "        33,  13,  47,  53,  36,  55,  30,  11,  11,  19,  33, 169,  20,\n",
       "        41,  54,  31,  26,  20,  16,  23,  18, 169,  21,  22, 169,  56,\n",
       "        26,  46,  28,  41,  46,  31,  39,  13,  22,  32,  49,  31,  11,\n",
       "        15,  22,  33,  39,  19,  55,  31,  45,  17,  17,  18,  52,  24,\n",
       "        14,  14,  40,  15,  54,  30,  57,  23,  56,  22,  29, 169,  29,\n",
       "        34,  43, 169, 169,  22,  56,  48,  43,  32,  34,  56,  22,  28,\n",
       "       169,  26,  43,  28,  25,  34,  22,  39,  28,  19,  42,  52,  30,\n",
       "        51,  23,  25,  16,  20,  34,  28,  25,  21,  25,  27,  33,  22,\n",
       "        30,  37, 169,  35,  27,  40,  14,  24,  30, 169,  42,  36,  40,\n",
       "        17,  31, 169, 169,  58,  34,  30,  47,  51,  31,  41,  51,  22,\n",
       "        29,  45,  17,  45, 169,  29,  37,  41, 169,  24,  56, 169,  58,\n",
       "        37,  25,  34, 169,  22,  54,  46,  24,  24,  29,  45,  24,  47,\n",
       "        26, 169, 169,   0,  43,  54,   0,   1,   0,  47,  11,   0, 169,\n",
       "         0,  38,  21,   6,   0,  41,   0,  16,   2,  55,   2,  39,  23,\n",
       "         5,  34,   0,   0,   0,   0,   0,   4,   0,  18,   5,  11,  16,\n",
       "        18,  57,  21,   5,   0,  37,  51,  17,  14,   8,   0,   0,   0,\n",
       "         0,   0,   0,   0,   0,   0,   0,   0,   2,   0,   0,   0,   0,\n",
       "         7,   0,   0,  10,   0,   0,   1,  19,   0,   0,   0,   0,   4,\n",
       "         0,   1,   0,   0,  14,   1,   0,   0,   0,   0,   0,   0,   4,\n",
       "         0,   4,   0,   0,   0,   0,  29,   0,   0,   0,  15,   0,   0,\n",
       "         0,   0,   3,   0,   0,   0,   0,   0,   0,   0,   0,   8,  27,\n",
       "         3,   0,   0,   0,   0,   0,   4,   0,   0,   0,   0,   0,   0,\n",
       "         0,   0,   0,   0,   0,   0,   0,   0,  13,   3,   0,   0,   0,\n",
       "         0,  11,   0,   0,   0,   0,   0,   0,   1,   0,   0,   4,   3,\n",
       "         2,   3,   0,   0,   0,   0,   0,   0,   0,  13,   0,   2,   0,\n",
       "        10,   2,   0,   0,   0,   0,   0,   0,   0,   0,   0,   0,   0,\n",
       "         0,   0,   0,   0,   0,   0,   0,   0,   0,   0,   0,   0,   0,\n",
       "         0,   0,   0,   0,   0,   0,   0,   0,   0,   0,   0,   0,   0,\n",
       "         0,   0,   0,   0,   0,   0,   0,   0,   0,   0,   0,   0,   0,\n",
       "         0,   0,   0,   0,   0,   3,   0,  14,   0, 169,   0,   0,   0,\n",
       "         2,   0,  11,   0,   2,   7,  42,   3,  11,   2,   9,   0,  18,\n",
       "         3,   4,   4,   0,   5,  10,   2,  24,   0,   9,   0,  12,   0,\n",
       "         2,   0,   0,   0,   0,   0,   0,   0,   0,   2,   9,  36,  54,\n",
       "         0,   4,   0,   2,   2,   4,   5,   3,   8,   7,   9,   5,   0,\n",
       "         6,   0,   0,   0,   0,   0,   1,   0,  25,   0,   8,   1,   4,\n",
       "         0,  53,   2,   6,   0,   6,   2,   4,   4,   4,   1,   6,   0,\n",
       "        10,   0,   4,   0,   0,   0,   0,   0,   3,   0,   0,   7,  53,\n",
       "         0,   9,   0,  10,   0,  12,   1,  14,   4,   4,   0,   7,   3,\n",
       "        10,   0,   8,   0,   0,   0,   0,   0,   0,   0,   6,   0,  49,\n",
       "         0,   0,   0,   0,   0,   0,   0,   0,   0,   0,   0,   0,   0,\n",
       "         0,   0,   0,   0,   0,   0,   2,   0,  31,   0,   0,   0,   4,\n",
       "         0,   0,   0,   0,   0,   0,   0,   0,   0,   0,   0,   0,   0,\n",
       "         3,   0, 169,   0,   4,   0,   2,   0,   4,   0,   0,   0,   0,\n",
       "         0,   5,   0,   0,   0,   0,   0,   8,   0,   0,   0,   0,   0,\n",
       "         0,   0,   0,   0,   0,   0,   0,   0,   0,   0,   1,   0,  22,\n",
       "         5,  34,  13,   0,   6,   3,   4,   4,   0,   2,   1,   2,   0,\n",
       "        14,   0,   8,  13,   2,   1,   2,   3,  10,   2,  20,   0,   2,\n",
       "         2,   4,   1,   3,   0,   4,   3,   4,   0,  12,   0,  14,   3,\n",
       "        12,   0,   3,   0,   8,   1,   6,   2,   8,   6,   0,   4,   7,\n",
       "         3,   4,   0,   2,  12,   4,  10,   2,   0,   3,   1,  14,   0,\n",
       "         9,   0,  10], dtype=int32)"
      ]
     },
     "execution_count": 21,
     "metadata": {},
     "output_type": "execute_result"
    }
   ],
   "source": [
    "last_step_seen"
   ]
  },
  {
   "cell_type": "code",
   "execution_count": 22,
   "metadata": {
    "collapsed": false
   },
   "outputs": [
    {
     "data": {
      "text/plain": [
       "(206282, 46)"
      ]
     },
     "execution_count": 22,
     "metadata": {},
     "output_type": "execute_result"
    }
   ],
   "source": [
    "np.shape(X_train)"
   ]
  },
  {
   "cell_type": "code",
   "execution_count": 23,
   "metadata": {
    "collapsed": true
   },
   "outputs": [],
   "source": [
    "pkl.dump(step_results,open('step_results.pkl','wb'))"
   ]
  },
  {
   "cell_type": "code",
   "execution_count": 29,
   "metadata": {
    "collapsed": false
   },
   "outputs": [
    {
     "data": {
      "text/plain": [
       "(-26, 0.27748244761491381, 159)"
      ]
     },
     "execution_count": 29,
     "metadata": {},
     "output_type": "execute_result"
    }
   ],
   "source": [
    "step_results[39]"
   ]
  },
  {
   "cell_type": "code",
   "execution_count": 30,
   "metadata": {
    "collapsed": true
   },
   "outputs": [],
   "source": [
    "feature_mask= np.where(last_step_seen >= 39)[0]"
   ]
  },
  {
   "cell_type": "code",
   "execution_count": 32,
   "metadata": {
    "collapsed": false
   },
   "outputs": [],
   "source": [
    "pkl.dump(feature_mask,open('feature_mask.pkl','wb'))"
   ]
  },
  {
   "cell_type": "code",
   "execution_count": null,
   "metadata": {
    "collapsed": true
   },
   "outputs": [],
   "source": []
  }
 ],
 "metadata": {
  "anaconda-cloud": {},
  "kernelspec": {
   "display_name": "Python [conda root]",
   "language": "python",
   "name": "conda-root-py"
  },
  "language_info": {
   "codemirror_mode": {
    "name": "ipython",
    "version": 2
   },
   "file_extension": ".py",
   "mimetype": "text/x-python",
   "name": "python",
   "nbconvert_exporter": "python",
   "pygments_lexer": "ipython2",
   "version": "2.7.12"
  }
 },
 "nbformat": 4,
 "nbformat_minor": 1
}
