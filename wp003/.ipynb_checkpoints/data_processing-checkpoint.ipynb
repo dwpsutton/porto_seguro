{
 "cells": [
  {
   "cell_type": "code",
   "execution_count": 1,
   "metadata": {
    "collapsed": false
   },
   "outputs": [
    {
     "name": "stderr",
     "output_type": "stream",
     "text": [
      "/Users/davidsutton/anaconda/lib/python2.7/site-packages/matplotlib/font_manager.py:273: UserWarning: Matplotlib is building the font cache using fc-list. This may take a moment.\n",
      "  warnings.warn('Matplotlib is building the font cache using fc-list. This may take a moment.')\n"
     ]
    }
   ],
   "source": [
    "import pandas as pd, numpy as np\n",
    "import matplotlib.pyplot as plt\n",
    "%matplotlib inline"
   ]
  },
  {
   "cell_type": "markdown",
   "metadata": {},
   "source": [
    "## Data load"
   ]
  },
  {
   "cell_type": "code",
   "execution_count": 2,
   "metadata": {
    "collapsed": false
   },
   "outputs": [],
   "source": [
    "df= pd.read_csv('../data/train.csv')"
   ]
  },
  {
   "cell_type": "code",
   "execution_count": 3,
   "metadata": {
    "collapsed": false
   },
   "outputs": [],
   "source": [
    "# Group columns by type\n",
    "colnames= map(lambda x: str(x),df.columns.values)\n",
    "id_col= colnames[0]\n",
    "target_col= colnames[1]\n",
    "cat_cols= filter(lambda x: '_cat' in x,colnames)\n",
    "bin_cols= filter(lambda x: '_bin' in x,colnames)\n",
    "num_cols= filter(lambda x: ('_cat' not in x) and ('_bin' not in x) and x not in [id_col,target_col] ,\n",
    "                colnames)"
   ]
  },
  {
   "cell_type": "markdown",
   "metadata": {},
   "source": [
    "## Data exploration"
   ]
  },
  {
   "cell_type": "code",
   "execution_count": 4,
   "metadata": {
    "collapsed": false
   },
   "outputs": [
    {
     "data": {
      "text/html": [
       "<div>\n",
       "<table border=\"1\" class=\"dataframe\">\n",
       "  <thead>\n",
       "    <tr style=\"text-align: right;\">\n",
       "      <th></th>\n",
       "      <th>ps_ind_01</th>\n",
       "      <th>ps_ind_03</th>\n",
       "      <th>ps_ind_14</th>\n",
       "      <th>ps_ind_15</th>\n",
       "      <th>ps_reg_01</th>\n",
       "      <th>ps_reg_02</th>\n",
       "      <th>ps_reg_03</th>\n",
       "      <th>ps_car_11</th>\n",
       "      <th>ps_car_12</th>\n",
       "      <th>ps_car_13</th>\n",
       "      <th>ps_car_14</th>\n",
       "      <th>ps_car_15</th>\n",
       "      <th>ps_calc_01</th>\n",
       "    </tr>\n",
       "  </thead>\n",
       "  <tbody>\n",
       "    <tr>\n",
       "      <th>count</th>\n",
       "      <td>595212.000000</td>\n",
       "      <td>595212.000000</td>\n",
       "      <td>595212.000000</td>\n",
       "      <td>595212.000000</td>\n",
       "      <td>595212.000000</td>\n",
       "      <td>595212.000000</td>\n",
       "      <td>595212.000000</td>\n",
       "      <td>595212.000000</td>\n",
       "      <td>595212.000000</td>\n",
       "      <td>595212.000000</td>\n",
       "      <td>595212.000000</td>\n",
       "      <td>595212.000000</td>\n",
       "      <td>595212.000000</td>\n",
       "    </tr>\n",
       "    <tr>\n",
       "      <th>mean</th>\n",
       "      <td>1.900378</td>\n",
       "      <td>4.423318</td>\n",
       "      <td>0.012451</td>\n",
       "      <td>7.299922</td>\n",
       "      <td>0.610991</td>\n",
       "      <td>0.439184</td>\n",
       "      <td>0.551102</td>\n",
       "      <td>2.346072</td>\n",
       "      <td>0.379945</td>\n",
       "      <td>0.813265</td>\n",
       "      <td>0.276256</td>\n",
       "      <td>3.065899</td>\n",
       "      <td>0.449756</td>\n",
       "    </tr>\n",
       "    <tr>\n",
       "      <th>std</th>\n",
       "      <td>1.983789</td>\n",
       "      <td>2.699902</td>\n",
       "      <td>0.127545</td>\n",
       "      <td>3.546042</td>\n",
       "      <td>0.287643</td>\n",
       "      <td>0.404264</td>\n",
       "      <td>0.793506</td>\n",
       "      <td>0.832548</td>\n",
       "      <td>0.058327</td>\n",
       "      <td>0.224588</td>\n",
       "      <td>0.357154</td>\n",
       "      <td>0.731366</td>\n",
       "      <td>0.287198</td>\n",
       "    </tr>\n",
       "    <tr>\n",
       "      <th>min</th>\n",
       "      <td>0.000000</td>\n",
       "      <td>0.000000</td>\n",
       "      <td>0.000000</td>\n",
       "      <td>0.000000</td>\n",
       "      <td>0.000000</td>\n",
       "      <td>0.000000</td>\n",
       "      <td>-1.000000</td>\n",
       "      <td>-1.000000</td>\n",
       "      <td>-1.000000</td>\n",
       "      <td>0.250619</td>\n",
       "      <td>-1.000000</td>\n",
       "      <td>0.000000</td>\n",
       "      <td>0.000000</td>\n",
       "    </tr>\n",
       "    <tr>\n",
       "      <th>25%</th>\n",
       "      <td>0.000000</td>\n",
       "      <td>2.000000</td>\n",
       "      <td>0.000000</td>\n",
       "      <td>5.000000</td>\n",
       "      <td>0.400000</td>\n",
       "      <td>0.200000</td>\n",
       "      <td>0.525000</td>\n",
       "      <td>2.000000</td>\n",
       "      <td>0.316228</td>\n",
       "      <td>0.670867</td>\n",
       "      <td>0.333167</td>\n",
       "      <td>2.828427</td>\n",
       "      <td>0.200000</td>\n",
       "    </tr>\n",
       "    <tr>\n",
       "      <th>50%</th>\n",
       "      <td>1.000000</td>\n",
       "      <td>4.000000</td>\n",
       "      <td>0.000000</td>\n",
       "      <td>7.000000</td>\n",
       "      <td>0.700000</td>\n",
       "      <td>0.300000</td>\n",
       "      <td>0.720677</td>\n",
       "      <td>3.000000</td>\n",
       "      <td>0.374166</td>\n",
       "      <td>0.765811</td>\n",
       "      <td>0.368782</td>\n",
       "      <td>3.316625</td>\n",
       "      <td>0.500000</td>\n",
       "    </tr>\n",
       "    <tr>\n",
       "      <th>75%</th>\n",
       "      <td>3.000000</td>\n",
       "      <td>6.000000</td>\n",
       "      <td>0.000000</td>\n",
       "      <td>10.000000</td>\n",
       "      <td>0.900000</td>\n",
       "      <td>0.600000</td>\n",
       "      <td>1.000000</td>\n",
       "      <td>3.000000</td>\n",
       "      <td>0.400000</td>\n",
       "      <td>0.906190</td>\n",
       "      <td>0.396485</td>\n",
       "      <td>3.605551</td>\n",
       "      <td>0.700000</td>\n",
       "    </tr>\n",
       "    <tr>\n",
       "      <th>max</th>\n",
       "      <td>7.000000</td>\n",
       "      <td>11.000000</td>\n",
       "      <td>4.000000</td>\n",
       "      <td>13.000000</td>\n",
       "      <td>0.900000</td>\n",
       "      <td>1.800000</td>\n",
       "      <td>4.037945</td>\n",
       "      <td>3.000000</td>\n",
       "      <td>1.264911</td>\n",
       "      <td>3.720626</td>\n",
       "      <td>0.636396</td>\n",
       "      <td>3.741657</td>\n",
       "      <td>0.900000</td>\n",
       "    </tr>\n",
       "  </tbody>\n",
       "</table>\n",
       "</div>"
      ],
      "text/plain": [
       "           ps_ind_01      ps_ind_03      ps_ind_14      ps_ind_15  \\\n",
       "count  595212.000000  595212.000000  595212.000000  595212.000000   \n",
       "mean        1.900378       4.423318       0.012451       7.299922   \n",
       "std         1.983789       2.699902       0.127545       3.546042   \n",
       "min         0.000000       0.000000       0.000000       0.000000   \n",
       "25%         0.000000       2.000000       0.000000       5.000000   \n",
       "50%         1.000000       4.000000       0.000000       7.000000   \n",
       "75%         3.000000       6.000000       0.000000      10.000000   \n",
       "max         7.000000      11.000000       4.000000      13.000000   \n",
       "\n",
       "           ps_reg_01      ps_reg_02      ps_reg_03      ps_car_11  \\\n",
       "count  595212.000000  595212.000000  595212.000000  595212.000000   \n",
       "mean        0.610991       0.439184       0.551102       2.346072   \n",
       "std         0.287643       0.404264       0.793506       0.832548   \n",
       "min         0.000000       0.000000      -1.000000      -1.000000   \n",
       "25%         0.400000       0.200000       0.525000       2.000000   \n",
       "50%         0.700000       0.300000       0.720677       3.000000   \n",
       "75%         0.900000       0.600000       1.000000       3.000000   \n",
       "max         0.900000       1.800000       4.037945       3.000000   \n",
       "\n",
       "           ps_car_12      ps_car_13      ps_car_14      ps_car_15  \\\n",
       "count  595212.000000  595212.000000  595212.000000  595212.000000   \n",
       "mean        0.379945       0.813265       0.276256       3.065899   \n",
       "std         0.058327       0.224588       0.357154       0.731366   \n",
       "min        -1.000000       0.250619      -1.000000       0.000000   \n",
       "25%         0.316228       0.670867       0.333167       2.828427   \n",
       "50%         0.374166       0.765811       0.368782       3.316625   \n",
       "75%         0.400000       0.906190       0.396485       3.605551   \n",
       "max         1.264911       3.720626       0.636396       3.741657   \n",
       "\n",
       "          ps_calc_01  \n",
       "count  595212.000000  \n",
       "mean        0.449756  \n",
       "std         0.287198  \n",
       "min         0.000000  \n",
       "25%         0.200000  \n",
       "50%         0.500000  \n",
       "75%         0.700000  \n",
       "max         0.900000  "
      ]
     },
     "execution_count": 4,
     "metadata": {},
     "output_type": "execute_result"
    }
   ],
   "source": [
    "# Have a look at numerical column ranges: part 1\n",
    "df.loc[:,num_cols[:len(num_cols)/2]].describe()"
   ]
  },
  {
   "cell_type": "code",
   "execution_count": 5,
   "metadata": {
    "collapsed": false
   },
   "outputs": [
    {
     "data": {
      "text/html": [
       "<div>\n",
       "<table border=\"1\" class=\"dataframe\">\n",
       "  <thead>\n",
       "    <tr style=\"text-align: right;\">\n",
       "      <th></th>\n",
       "      <th>ps_calc_02</th>\n",
       "      <th>ps_calc_03</th>\n",
       "      <th>ps_calc_04</th>\n",
       "      <th>ps_calc_05</th>\n",
       "      <th>ps_calc_06</th>\n",
       "      <th>ps_calc_07</th>\n",
       "      <th>ps_calc_08</th>\n",
       "      <th>ps_calc_09</th>\n",
       "      <th>ps_calc_10</th>\n",
       "      <th>ps_calc_11</th>\n",
       "      <th>ps_calc_12</th>\n",
       "      <th>ps_calc_13</th>\n",
       "      <th>ps_calc_14</th>\n",
       "    </tr>\n",
       "  </thead>\n",
       "  <tbody>\n",
       "    <tr>\n",
       "      <th>count</th>\n",
       "      <td>595212.000000</td>\n",
       "      <td>595212.000000</td>\n",
       "      <td>595212.000000</td>\n",
       "      <td>595212.000000</td>\n",
       "      <td>595212.000000</td>\n",
       "      <td>595212.000000</td>\n",
       "      <td>595212.000000</td>\n",
       "      <td>595212.000000</td>\n",
       "      <td>595212.000000</td>\n",
       "      <td>595212.000000</td>\n",
       "      <td>595212.000000</td>\n",
       "      <td>595212.000000</td>\n",
       "      <td>595212.000000</td>\n",
       "    </tr>\n",
       "    <tr>\n",
       "      <th>mean</th>\n",
       "      <td>0.449589</td>\n",
       "      <td>0.449849</td>\n",
       "      <td>2.372081</td>\n",
       "      <td>1.885886</td>\n",
       "      <td>7.689445</td>\n",
       "      <td>3.005823</td>\n",
       "      <td>9.225904</td>\n",
       "      <td>2.339034</td>\n",
       "      <td>8.433590</td>\n",
       "      <td>5.441382</td>\n",
       "      <td>1.441918</td>\n",
       "      <td>2.872288</td>\n",
       "      <td>7.539026</td>\n",
       "    </tr>\n",
       "    <tr>\n",
       "      <th>std</th>\n",
       "      <td>0.286893</td>\n",
       "      <td>0.287153</td>\n",
       "      <td>1.117219</td>\n",
       "      <td>1.134927</td>\n",
       "      <td>1.334312</td>\n",
       "      <td>1.414564</td>\n",
       "      <td>1.459672</td>\n",
       "      <td>1.246949</td>\n",
       "      <td>2.904597</td>\n",
       "      <td>2.332871</td>\n",
       "      <td>1.202963</td>\n",
       "      <td>1.694887</td>\n",
       "      <td>2.746652</td>\n",
       "    </tr>\n",
       "    <tr>\n",
       "      <th>min</th>\n",
       "      <td>0.000000</td>\n",
       "      <td>0.000000</td>\n",
       "      <td>0.000000</td>\n",
       "      <td>0.000000</td>\n",
       "      <td>0.000000</td>\n",
       "      <td>0.000000</td>\n",
       "      <td>2.000000</td>\n",
       "      <td>0.000000</td>\n",
       "      <td>0.000000</td>\n",
       "      <td>0.000000</td>\n",
       "      <td>0.000000</td>\n",
       "      <td>0.000000</td>\n",
       "      <td>0.000000</td>\n",
       "    </tr>\n",
       "    <tr>\n",
       "      <th>25%</th>\n",
       "      <td>0.200000</td>\n",
       "      <td>0.200000</td>\n",
       "      <td>2.000000</td>\n",
       "      <td>1.000000</td>\n",
       "      <td>7.000000</td>\n",
       "      <td>2.000000</td>\n",
       "      <td>8.000000</td>\n",
       "      <td>1.000000</td>\n",
       "      <td>6.000000</td>\n",
       "      <td>4.000000</td>\n",
       "      <td>1.000000</td>\n",
       "      <td>2.000000</td>\n",
       "      <td>6.000000</td>\n",
       "    </tr>\n",
       "    <tr>\n",
       "      <th>50%</th>\n",
       "      <td>0.400000</td>\n",
       "      <td>0.500000</td>\n",
       "      <td>2.000000</td>\n",
       "      <td>2.000000</td>\n",
       "      <td>8.000000</td>\n",
       "      <td>3.000000</td>\n",
       "      <td>9.000000</td>\n",
       "      <td>2.000000</td>\n",
       "      <td>8.000000</td>\n",
       "      <td>5.000000</td>\n",
       "      <td>1.000000</td>\n",
       "      <td>3.000000</td>\n",
       "      <td>7.000000</td>\n",
       "    </tr>\n",
       "    <tr>\n",
       "      <th>75%</th>\n",
       "      <td>0.700000</td>\n",
       "      <td>0.700000</td>\n",
       "      <td>3.000000</td>\n",
       "      <td>3.000000</td>\n",
       "      <td>9.000000</td>\n",
       "      <td>4.000000</td>\n",
       "      <td>10.000000</td>\n",
       "      <td>3.000000</td>\n",
       "      <td>10.000000</td>\n",
       "      <td>7.000000</td>\n",
       "      <td>2.000000</td>\n",
       "      <td>4.000000</td>\n",
       "      <td>9.000000</td>\n",
       "    </tr>\n",
       "    <tr>\n",
       "      <th>max</th>\n",
       "      <td>0.900000</td>\n",
       "      <td>0.900000</td>\n",
       "      <td>5.000000</td>\n",
       "      <td>6.000000</td>\n",
       "      <td>10.000000</td>\n",
       "      <td>9.000000</td>\n",
       "      <td>12.000000</td>\n",
       "      <td>7.000000</td>\n",
       "      <td>25.000000</td>\n",
       "      <td>19.000000</td>\n",
       "      <td>10.000000</td>\n",
       "      <td>13.000000</td>\n",
       "      <td>23.000000</td>\n",
       "    </tr>\n",
       "  </tbody>\n",
       "</table>\n",
       "</div>"
      ],
      "text/plain": [
       "          ps_calc_02     ps_calc_03     ps_calc_04     ps_calc_05  \\\n",
       "count  595212.000000  595212.000000  595212.000000  595212.000000   \n",
       "mean        0.449589       0.449849       2.372081       1.885886   \n",
       "std         0.286893       0.287153       1.117219       1.134927   \n",
       "min         0.000000       0.000000       0.000000       0.000000   \n",
       "25%         0.200000       0.200000       2.000000       1.000000   \n",
       "50%         0.400000       0.500000       2.000000       2.000000   \n",
       "75%         0.700000       0.700000       3.000000       3.000000   \n",
       "max         0.900000       0.900000       5.000000       6.000000   \n",
       "\n",
       "          ps_calc_06     ps_calc_07     ps_calc_08     ps_calc_09  \\\n",
       "count  595212.000000  595212.000000  595212.000000  595212.000000   \n",
       "mean        7.689445       3.005823       9.225904       2.339034   \n",
       "std         1.334312       1.414564       1.459672       1.246949   \n",
       "min         0.000000       0.000000       2.000000       0.000000   \n",
       "25%         7.000000       2.000000       8.000000       1.000000   \n",
       "50%         8.000000       3.000000       9.000000       2.000000   \n",
       "75%         9.000000       4.000000      10.000000       3.000000   \n",
       "max        10.000000       9.000000      12.000000       7.000000   \n",
       "\n",
       "          ps_calc_10     ps_calc_11     ps_calc_12     ps_calc_13  \\\n",
       "count  595212.000000  595212.000000  595212.000000  595212.000000   \n",
       "mean        8.433590       5.441382       1.441918       2.872288   \n",
       "std         2.904597       2.332871       1.202963       1.694887   \n",
       "min         0.000000       0.000000       0.000000       0.000000   \n",
       "25%         6.000000       4.000000       1.000000       2.000000   \n",
       "50%         8.000000       5.000000       1.000000       3.000000   \n",
       "75%        10.000000       7.000000       2.000000       4.000000   \n",
       "max        25.000000      19.000000      10.000000      13.000000   \n",
       "\n",
       "          ps_calc_14  \n",
       "count  595212.000000  \n",
       "mean        7.539026  \n",
       "std         2.746652  \n",
       "min         0.000000  \n",
       "25%         6.000000  \n",
       "50%         7.000000  \n",
       "75%         9.000000  \n",
       "max        23.000000  "
      ]
     },
     "execution_count": 5,
     "metadata": {},
     "output_type": "execute_result"
    }
   ],
   "source": [
    "# Have a look at numerical column ranges: part 2\n",
    "df.loc[:,num_cols[len(num_cols)/2:]].describe()"
   ]
  },
  {
   "cell_type": "code",
   "execution_count": 6,
   "metadata": {
    "collapsed": false
   },
   "outputs": [
    {
     "name": "stdout",
     "output_type": "stream",
     "text": [
      "ps_ind_01 0.0\n",
      "ps_ind_03 0.0\n",
      "ps_ind_14 0.0\n",
      "ps_ind_15 0.0\n",
      "ps_reg_01 0.0\n",
      "ps_reg_02 0.0\n",
      "ps_reg_03 0.181064897885\n",
      "ps_car_11 8.40036827215e-06\n",
      "ps_car_12 1.68007365443e-06\n",
      "ps_car_13 0.0\n",
      "ps_car_14 0.0716047391518\n",
      "ps_car_15 0.0\n",
      "ps_calc_01 0.0\n",
      "ps_calc_02 0.0\n",
      "ps_calc_03 0.0\n",
      "ps_calc_04 0.0\n",
      "ps_calc_05 0.0\n",
      "ps_calc_06 0.0\n",
      "ps_calc_07 0.0\n",
      "ps_calc_08 0.0\n",
      "ps_calc_09 0.0\n",
      "ps_calc_10 0.0\n",
      "ps_calc_11 0.0\n",
      "ps_calc_12 0.0\n",
      "ps_calc_13 0.0\n",
      "ps_calc_14 0.0\n"
     ]
    }
   ],
   "source": [
    "# What proportion of each numerical column is missing?\n",
    "for c in num_cols:\n",
    "    print c, df[c].apply(lambda x: x == -1, 1).sum() / float( df[c].count() )"
   ]
  },
  {
   "cell_type": "code",
   "execution_count": 7,
   "metadata": {
    "collapsed": false
   },
   "outputs": [
    {
     "name": "stdout",
     "output_type": "stream",
     "text": [
      "ps_ind_06_bin 0.0\n",
      "ps_ind_07_bin 0.0\n",
      "ps_ind_08_bin 0.0\n",
      "ps_ind_09_bin 0.0\n",
      "ps_ind_10_bin 0.0\n",
      "ps_ind_11_bin 0.0\n",
      "ps_ind_12_bin 0.0\n",
      "ps_ind_13_bin 0.0\n",
      "ps_ind_16_bin 0.0\n",
      "ps_ind_17_bin 0.0\n",
      "ps_ind_18_bin 0.0\n",
      "ps_calc_15_bin 0.0\n",
      "ps_calc_16_bin 0.0\n",
      "ps_calc_17_bin 0.0\n",
      "ps_calc_18_bin 0.0\n",
      "ps_calc_19_bin 0.0\n",
      "ps_calc_20_bin 0.0\n"
     ]
    }
   ],
   "source": [
    "# What about binary columns?\n",
    "for c in bin_cols:\n",
    "    print c, df[c].apply(lambda x: x == -1, 1).sum() / float( df[c].count() )"
   ]
  },
  {
   "cell_type": "code",
   "execution_count": 8,
   "metadata": {
    "collapsed": false
   },
   "outputs": [
    {
     "name": "stdout",
     "output_type": "stream",
     "text": [
      "ps_ind_02_cat 5\n",
      "ps_ind_04_cat 3\n",
      "ps_ind_05_cat 8\n",
      "ps_car_01_cat 13\n",
      "ps_car_02_cat 3\n",
      "ps_car_03_cat 3\n",
      "ps_car_04_cat 10\n",
      "ps_car_05_cat 3\n",
      "ps_car_06_cat 18\n",
      "ps_car_07_cat 3\n",
      "ps_car_08_cat 2\n",
      "ps_car_09_cat 6\n",
      "ps_car_10_cat 3\n",
      "ps_car_11_cat 104\n"
     ]
    }
   ],
   "source": [
    "# What is the cardinality of our categorical columns?\n",
    "for c in cat_cols:\n",
    "    print c, len(df[c].unique())"
   ]
  },
  {
   "cell_type": "code",
   "execution_count": 9,
   "metadata": {
    "collapsed": true
   },
   "outputs": [],
   "source": [
    "# Questions\n",
    "#  - what are the distributions of the problematic numerics: can we bin?\n",
    "#  - what are the AUCs of each column?"
   ]
  },
  {
   "cell_type": "code",
   "execution_count": 10,
   "metadata": {
    "collapsed": false
   },
   "outputs": [],
   "source": [
    "import sklearn.metrics\n",
    "def fieldAUC(x, y):\n",
    "    ind= np.argsort(x)\n",
    "    return sklearn.metrics.roc_auc_score(y[ind], x[ind] / float(len(ind)) )"
   ]
  },
  {
   "cell_type": "code",
   "execution_count": 11,
   "metadata": {
    "collapsed": false
   },
   "outputs": [
    {
     "name": "stdout",
     "output_type": "stream",
     "text": [
      "('ps_car_12', 0.55252607063095216)\n",
      "('ps_reg_02', 0.55036534408616)\n",
      "('ps_car_15', 0.54492850375133051)\n",
      "('ps_reg_01', 0.53466634132331081)\n",
      "('ps_ind_01', 0.52761878652218253)\n",
      "('ps_reg_03', 0.52190242986412316)\n",
      "('ps_ind_03', 0.51244537713872096)\n",
      "('ps_calc_03', 0.50292317459431224)\n",
      "('ps_calc_01', 0.5027279277189004)\n",
      "('ps_calc_02', 0.50208396539585232)\n",
      "('ps_ind_14', 0.5020687567856138)\n",
      "('ps_calc_10', 0.50172748397572409)\n",
      "('ps_calc_09', 0.50154862832740199)\n",
      "('ps_calc_14', 0.50145395331409248)\n",
      "('ps_calc_05', 0.50058910900258546)\n",
      "('ps_car_13', 0.50046405084719681)\n",
      "('ps_calc_06', 0.50015892665756323)\n",
      "('ps_calc_11', 0.50014744525152122)\n",
      "('ps_calc_13', 0.4996606189832416)\n",
      "('ps_calc_04', 0.49961354904023364)\n",
      "('ps_car_11', 0.49942327777164464)\n",
      "('ps_calc_07', 0.49940114907657057)\n",
      "('ps_calc_08', 0.49851007279781356)\n",
      "('ps_calc_12', 0.49837667769194027)\n",
      "('ps_car_14', 0.49558738940663349)\n",
      "('ps_ind_15', 0.46668968642878988)\n"
     ]
    }
   ],
   "source": [
    "import operator\n",
    "AUC= {}\n",
    "for c in num_cols:\n",
    "    AUC[c]= fieldAUC(df[c].values, df[target_col].values )\n",
    "for c in sorted(AUC.items(), key=operator.itemgetter(1), reverse= True):\n",
    "    print c"
   ]
  },
  {
   "cell_type": "code",
   "execution_count": 12,
   "metadata": {
    "collapsed": false
   },
   "outputs": [
    {
     "name": "stdout",
     "output_type": "stream",
     "text": [
      "('ps_ind_17_bin', 0.037052606335854998)\n",
      "('ps_ind_07_bin', 0.034218074514123557)\n",
      "('ps_ind_06_bin', 0.034016869703789823)\n",
      "('ps_ind_16_bin', 0.027778075788542852)\n",
      "('ps_ind_08_bin', 0.013146978438726179)\n",
      "('ps_ind_09_bin', 0.0082368159855826361)\n",
      "('ps_ind_12_bin', 0.0078103084433936284)\n",
      "('ps_ind_18_bin', 0.0045554557151527598)\n",
      "('ps_ind_13_bin', 0.002460290831934065)\n",
      "('ps_ind_11_bin', 0.0020281711723570098)\n",
      "('ps_ind_10_bin', 0.0018147796965899156)\n",
      "('ps_calc_19_bin', 0.0017438319546571744)\n",
      "('ps_calc_20_bin', 0.0010722284275397965)\n",
      "('ps_calc_16_bin', 0.00062382801150208356)\n",
      "('ps_calc_18_bin', 0.00055243519961181101)\n",
      "('ps_calc_15_bin', 0.00049042425067193833)\n",
      "('ps_calc_17_bin', 0.00017012817365769659)\n"
     ]
    }
   ],
   "source": [
    "# Correlation of binary columns with target\n",
    "CORR= {}\n",
    "for c in bin_cols:\n",
    "    CORR[c]= np.abs(np.corrcoef( df[c].values, df[target_col].values )[0,1])\n",
    "for c in sorted(CORR.items(), key=operator.itemgetter(1), reverse= True):\n",
    "    print c"
   ]
  },
  {
   "cell_type": "code",
   "execution_count": 19,
   "metadata": {
    "collapsed": true
   },
   "outputs": [],
   "source": [
    "# TODO: implement a class prevalence vectorizer for categoricals, to be used in processing some columns \n",
    "# and in understanding field importance\n",
    "\n",
    "class prevalence_vectorizer:\n",
    "    def __init__(self,field_list):\n",
    "        self.field_list= field_list\n",
    "        self.vectorizer= {}\n",
    "        for f in field_list:\n",
    "            self.vectorizer[f]= {}\n",
    "        return None\n",
    "    \n",
    "    def train(self,df,labelcol):\n",
    "        data_fields= map(lambda x: str(x),df.columns)\n",
    "        for f in self.field_list:\n",
    "            if f in data_fields:\n",
    "                self.vectorizer[f]= {}\n",
    "                grps= df.groupby(f).apply(lambda x: float(np.sum(x[labelcol])) / len(x[labelcol]) )\n",
    "                for g in grps.index.values:\n",
    "                    self.vectorizer[f][g]= grps[g]\n",
    "            else:\n",
    "                print 'Warning: field '+f+' not in train data'\n",
    "        return None\n",
    "    \n",
    "    def parse(self,vec,field_name):\n",
    "        if field_name in self.field_list:\n",
    "            placeholder= np.mean(self.vectorizer[field_name].values())\n",
    "            return map(lambda x: self.vectorizer[field_name][x] if x in self.vectorizer[field_name] else placeholder,vec)\n",
    "        else:\n",
    "            print field_name + ' not in vectorizer. Available fields: '+ self.field_list\n",
    "            raise Exception"
   ]
  },
  {
   "cell_type": "code",
   "execution_count": 20,
   "metadata": {
    "collapsed": false
   },
   "outputs": [
    {
     "name": "stdout",
     "output_type": "stream",
     "text": [
      "ps_ind_02_cat 0.035724623083 0.0367051122898 0.185185185185\n",
      "ps_ind_04_cat 0.0347902526191 0.0370456192469 0.397590361446\n",
      "ps_ind_05_cat 0.0338649530595 0.0382747425174 0.0833189877776\n",
      "ps_car_01_cat 0.0287703559892 0.0380840100448 0.317757009346\n",
      "ps_car_02_cat 0.0337719387032 0.0374066241735 0.0495074938004\n",
      "ps_car_03_cat 0.0327066782417 0.0374616746355 0.0482977897009\n",
      "ps_car_04_cat 0.0217391304348 0.037850172914 0.0935251798561\n",
      "ps_car_05_cat 0.0317087536719 0.0369476452709 0.0404535898579\n",
      "ps_car_06_cat 0.0317197229466 0.0377935591699 0.0694050991501\n",
      "ps_car_07_cat 0.0347664639482 0.0377472375309 0.078161719906\n",
      "ps_car_08_cat 0.0347350100149 0.0368462303435 0.04493336535\n",
      "ps_car_09_cat 0.0333439578856 0.0372063614381 0.091388400703\n",
      "ps_car_10_cat 0.0343833642166 0.0364485684449 0.0397727272727\n",
      "ps_car_11_cat 0.0184234370281 0.0388597782562 0.0751099937146\n"
     ]
    }
   ],
   "source": [
    "vectorizer= prevalence_vectorizer(cat_cols)\n",
    "mycols= cat_cols + [target_col]\n",
    "vectorizer.train(df.loc[:,mycols],target_col)\n",
    "\n",
    "for c in cat_cols:\n",
    "    dt= vectorizer.parse( df.loc[df[target_col] == 1,c].values, c ) \n",
    "    print c, min(dt), np.mean(dt),max(dt)"
   ]
  },
  {
   "cell_type": "markdown",
   "metadata": {},
   "source": [
    "## Data processing"
   ]
  },
  {
   "cell_type": "markdown",
   "metadata": {},
   "source": [
    "Processing plan: \n",
    "- cut rows with missing ps_car_11 and ps_car_12\n",
    "- Normalize all numerics, except: [ps_car_14 and ps_reg_03]\n",
    "- For [ps_car_14 and ps_reg_03], bin and convert to class prevalence (future work: fit for the missing values?)\n",
    "- Treat categoricals: dict vectorize, except for: \n",
    "     [ps_car_11_cat, ps_car_06_cat, ps_car_04_cat, ps_car_01_cat, ps_car_09_cat, ps_ind_05_cat], which we turn into class prevalence rates"
   ]
  },
  {
   "cell_type": "markdown",
   "metadata": {},
   "source": [
    "TODO: better treatment of: [ps_car_14 and ps_reg_03]"
   ]
  },
  {
   "cell_type": "code",
   "execution_count": 21,
   "metadata": {
    "collapsed": true
   },
   "outputs": [],
   "source": [
    "toPrevalate= ['ps_car_11_cat','ps_car_06_cat','ps_car_01_cat']\n",
    "toOneHot= filter(lambda x: x not in toPrevalate,cat_cols)"
   ]
  },
  {
   "cell_type": "code",
   "execution_count": 22,
   "metadata": {
    "collapsed": true
   },
   "outputs": [],
   "source": [
    "# Split train and test\n",
    "import sklearn.cross_validation\n",
    "#train= range(len(df[target_col].values))\n",
    "train,test= sklearn.cross_validation.train_test_split(range(df[target_col].count()),test_size= 0.33,random_state=0)\n",
    "\n",
    "train_df= df.loc[train,:]\n",
    "test_df= df.loc[test,:]"
   ]
  },
  {
   "cell_type": "code",
   "execution_count": 23,
   "metadata": {
    "collapsed": false
   },
   "outputs": [],
   "source": [
    "# one hot encoder\n",
    "import sklearn.preprocessing\n",
    "enc= sklearn.preprocessing.OneHotEncoder(sparse= False)\n",
    "X_train_onehot= enc.fit_transform( train_df.loc[:,toOneHot].as_matrix()+1.0 )"
   ]
  },
  {
   "cell_type": "code",
   "execution_count": 24,
   "metadata": {
    "collapsed": false
   },
   "outputs": [
    {
     "name": "stdout",
     "output_type": "stream",
     "text": [
      "398792 ps_car_14_binned 398792\n",
      "398792 ps_reg_03_binned 398792\n"
     ]
    }
   ],
   "source": [
    "#bin ps_car_14 and ps_reg_03\n",
    "\n",
    "class binner:\n",
    "    def __init__(self,x,nbins):\n",
    "        self.nbins= nbins\n",
    "        self.vmin= min(x)\n",
    "        self.vmax= max(x)\n",
    "        self.binmins= np.array(range(self.nbins))/float(self.nbins) * (self.vmax-self.vmin)+ self.vmin\n",
    "\n",
    "    def bin_vector(self,x):\n",
    "        ret= []\n",
    "        for xx in x:\n",
    "            i=0\n",
    "            if xx < self.binmins[0]:\n",
    "                ret.append( str(i) )\n",
    "                continue\n",
    "            else:\n",
    "                for yy in self.binmins[1:]:\n",
    "                    i+=1\n",
    "                    if yy > xx:\n",
    "                        ret.append( str(i) )\n",
    "                        break\n",
    "                if xx > self.binmins[-1]:\n",
    "                    ret.append( str(i) )\n",
    "        return np.array(ret)\n",
    "        \n",
    "    \n",
    "toBin= ['ps_car_14','ps_reg_03']\n",
    "for c in toBin:\n",
    "    num_cols.remove(c)\n",
    "binningFuncs={}\n",
    "for c in toBin:\n",
    "    binningFuncs[c]= binner(train_df.loc[:,c],5) #15,\n",
    "    yo = binningFuncs[c].bin_vector(train_df.loc[:,c])\n",
    "    print len(yo),c+'_binned',train_df.ps_car_14.count()\n",
    "    train_df.loc[:,c+'_binned']= yo\n",
    "    toPrevalate.append( c+'_binned' )"
   ]
  },
  {
   "cell_type": "code",
   "execution_count": 25,
   "metadata": {
    "collapsed": false
   },
   "outputs": [],
   "source": [
    "# Prevalence vectorizer\n",
    "vectorizer= prevalence_vectorizer(toPrevalate)\n",
    "vectorizer.train(train_df.loc[:,toPrevalate + [target_col] ],target_col)\n",
    "\n",
    "X_train_prevalence= np.zeros([len(train),len(toPrevalate)])\n",
    "i=0\n",
    "for c in toPrevalate:\n",
    "    X_train_prevalence[:,i]= vectorizer.parse( train_df.loc[:,c].values, c ) \n",
    "    i += 1"
   ]
  },
  {
   "cell_type": "code",
   "execution_count": 26,
   "metadata": {
    "collapsed": false
   },
   "outputs": [],
   "source": [
    "# Get means and stds for the columns in training set (for non-missing values)\n",
    "numerical_norms= {}\n",
    "for c in num_cols:\n",
    "    numerical_norms[c]= (train_df.loc[ train_df[c] >= 0, c].mean(),train_df.loc[ train_df[c] >= 0, c].std())"
   ]
  },
  {
   "cell_type": "code",
   "execution_count": 27,
   "metadata": {
    "collapsed": false
   },
   "outputs": [],
   "source": [
    "# Normalise numerical fields <- TODO: better treatment of [ps_car_14 and ps_reg_03]\n",
    "X_train_numeric= np.zeros([len(train),len(num_cols)])\n",
    "i=0\n",
    "for c in num_cols:\n",
    "    X_train_numeric[:,i]= ( train_df[c].values - numerical_norms[c][0] ) / numerical_norms[c][1]\n",
    "    i+=1"
   ]
  },
  {
   "cell_type": "code",
   "execution_count": 28,
   "metadata": {
    "collapsed": false
   },
   "outputs": [],
   "source": [
    "X_train= np.concatenate([ X_train_numeric, \n",
    "                          X_train_prevalence, \n",
    "                          X_train_onehot, \n",
    "                          train_df.loc[:,bin_cols].as_matrix() \n",
    "                        ],\n",
    "                        axis=1)"
   ]
  },
  {
   "cell_type": "code",
   "execution_count": 29,
   "metadata": {
    "collapsed": false
   },
   "outputs": [],
   "source": [
    "np.save(open('train_matrix.bin','wb'),X_train)\n",
    "np.save(open('train_labels.bin','wb'),train_df[target_col].values)"
   ]
  },
  {
   "cell_type": "markdown",
   "metadata": {},
   "source": [
    "Now repeat encodings for test set (without fitting them)"
   ]
  },
  {
   "cell_type": "code",
   "execution_count": 30,
   "metadata": {
    "collapsed": false
   },
   "outputs": [],
   "source": [
    "X_test_onehot= enc.transform( test_df.loc[:,toOneHot].as_matrix()+1.0 )\n",
    "for c in toBin:\n",
    "    test_df.loc[:,c+'_binned']= binningFuncs[c].bin_vector(test_df.loc[:,c])\n",
    "X_test_prevalence= np.zeros([len(test),len(toPrevalate)])\n",
    "i=0\n",
    "for c in toPrevalate:\n",
    "    X_test_prevalence[:,i]= vectorizer.parse( test_df.loc[:,c].values, c ) \n",
    "    i += 1\n",
    "X_test_numeric= np.zeros([len(test),len(num_cols)])\n",
    "i=0\n",
    "for c in num_cols:\n",
    "    X_test_numeric[:,i]= ( test_df[c].values - numerical_norms[c][0] ) / numerical_norms[c][1]\n",
    "    i+=1\n",
    "X_test= np.concatenate([ X_test_numeric, \n",
    "                          X_test_prevalence, \n",
    "                          X_test_onehot, \n",
    "                          test_df.loc[:,bin_cols].as_matrix() \n",
    "                        ],\n",
    "                        axis=1)\n",
    "np.save(open('test_matrix.bin','wb'),X_test)\n",
    "np.save(open('test_labels.bin','wb'),test_df[target_col].values)"
   ]
  },
  {
   "cell_type": "code",
   "execution_count": null,
   "metadata": {
    "collapsed": true
   },
   "outputs": [],
   "source": []
  }
 ],
 "metadata": {
  "anaconda-cloud": {},
  "kernelspec": {
   "display_name": "Python [conda root]",
   "language": "python",
   "name": "conda-root-py"
  },
  "language_info": {
   "codemirror_mode": {
    "name": "ipython",
    "version": 2
   },
   "file_extension": ".py",
   "mimetype": "text/x-python",
   "name": "python",
   "nbconvert_exporter": "python",
   "pygments_lexer": "ipython2",
   "version": "2.7.12"
  }
 },
 "nbformat": 4,
 "nbformat_minor": 1
}
