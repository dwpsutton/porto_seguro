{
 "cells": [
  {
   "cell_type": "code",
   "execution_count": 20,
   "metadata": {
    "collapsed": false
   },
   "outputs": [],
   "source": [
    "import numpy as np, pandas as pd,matplotlib.pyplot as plt\n",
    "%matplotlib inline"
   ]
  },
  {
   "cell_type": "code",
   "execution_count": 21,
   "metadata": {
    "collapsed": true
   },
   "outputs": [],
   "source": [
    "from sklearn.model_selection import cross_val_score\n",
    "from sklearn.model_selection import StratifiedKFold\n",
    "import copy"
   ]
  },
  {
   "cell_type": "code",
   "execution_count": 30,
   "metadata": {
    "collapsed": true
   },
   "outputs": [],
   "source": [
    "# def rank(array):\n",
    "#     srtInd = array.argsort()\n",
    "#     ranks = np.empty(len(array), float)\n",
    "#     ranks[srtInd] = np.arange(len(array))\n",
    "#     return ranks / float(len(array))"
   ]
  },
  {
   "cell_type": "code",
   "execution_count": 31,
   "metadata": {
    "collapsed": true
   },
   "outputs": [],
   "source": [
    "class Layer(object):\n",
    "    def __init__(self, n_splits, base_models):\n",
    "        self.n_splits = n_splits\n",
    "        self.base_models = base_models\n",
    "\n",
    "    def fit_predict(self, X, y, T):\n",
    "        X = np.array(X)\n",
    "        y = np.array(y)\n",
    "        T = np.array(T)\n",
    "\n",
    "        folds = list(StratifiedKFold(n_splits=self.n_splits, shuffle=True, random_state=2016).split(X, y))\n",
    "\n",
    "        S_train = np.zeros((X.shape[0], len(self.base_models)))\n",
    "        S_test = np.zeros((T.shape[0], len(self.base_models)))\n",
    "        for i, clf in enumerate(self.base_models):\n",
    "            S_test_i = np.zeros((T.shape[0], self.n_splits))\n",
    "\n",
    "            for j, (train_idx, test_idx) in enumerate(folds):\n",
    "                X_train = X[train_idx]\n",
    "                y_train = y[train_idx]\n",
    "                X_holdout = X[test_idx]\n",
    "\n",
    "                print (\"Fit %s fold %d\" % (str(clf).split('(')[0], j+1))\n",
    "                clf.fit(X_train, y_train)\n",
    "                y_pred = clf.predict_proba(X_holdout)[:,1]              \n",
    "\n",
    "                S_train[test_idx, i] = y_pred\n",
    "                S_test_i[:, j] = clf.predict_proba(T)[:,1]\n",
    "            S_test[:, i] = S_test_i.mean(axis=1)\n",
    "        return S_train,S_test"
   ]
  },
  {
   "cell_type": "code",
   "execution_count": 32,
   "metadata": {
    "collapsed": false
   },
   "outputs": [],
   "source": [
    "# Add output of layer results ofr quick iteration\n",
    "class Stack:\n",
    "    def __init__(self,k_folds,hidden_layers,top_layer,saveInternalVectors=False):\n",
    "        self.saveInternalVectors= saveInternalVectors\n",
    "        self.layers= []\n",
    "        for h in hidden_layers:\n",
    "            self.layers.append( Layer(k_folds,h) )\n",
    "        self.top_layer= top_layer \n",
    "        return None\n",
    "    \n",
    "    def fit_predict(self,X,y,T):\n",
    "        Xt_train= copy.deepcopy(X)\n",
    "        Xt_test= copy.deepcopy(T)\n",
    "        i= 1\n",
    "        for layer in self.layers:\n",
    "            print 'Fitting stack layer '+str(i)\n",
    "            Xt_train, Xt_test= layer.fit_predict(Xt_train,y,Xt_test)\n",
    "            if self.saveInternalVectors:\n",
    "                fname= 'STACK_internal_train_layer_'+str(i)+'.bin'\n",
    "                np.save(open(fname,'wb'),Xt_train)\n",
    "                fname= 'STACK_internal_test_layer_'+str(i)+'.bin'\n",
    "                np.save(open(fname,'wb'),Xt_test)\n",
    "            i+=1\n",
    "        for i in range(np.shape(Xt_train)[1]):\n",
    "            p= copy.deepcopy(Xt_train[:,i])\n",
    "            Xt_train[:,i]= np.log( p ) - np.log(1.0 - p)\n",
    "        self.top_layer.fit(Xt_train,y)\n",
    "        return self.top_layer.predict_proba(Xt_test)[:,1]"
   ]
  },
  {
   "cell_type": "markdown",
   "metadata": {},
   "source": [
    "Now specify the stack"
   ]
  },
  {
   "cell_type": "code",
   "execution_count": 33,
   "metadata": {
    "collapsed": false
   },
   "outputs": [],
   "source": [
    "# import lightgbm.sklearn\n",
    "# import xgboost.sklearn\n",
    "# import sklearn.linear_model\n",
    "# import sklearn.neural_network\n",
    "\n",
    "# lgb_params = {}\n",
    "# lgb_params['learning_rate'] = 0.01\n",
    "# lgb_params['n_estimators'] = 1300\n",
    "# lgb_params['max_bin'] = 10\n",
    "# lgb_params['subsample'] = 0.8\n",
    "# lgb_params['subsample_freq'] = 10\n",
    "# lgb_params['colsample_bytree'] = 0.8   \n",
    "# lgb_params['min_child_samples'] = 500\n",
    "# lgb_params['num_leaves']= 25\n",
    "\n",
    "# lgb_params_2 = {\n",
    "#     'learning_rate': 0.005,\n",
    "#     'n_estimators': 3700,\n",
    "#     'subsample': 0.7,\n",
    "#     'subsample_freq': 2,\n",
    "#     'colsample_bytree': 0.3,  \n",
    "#     'num_leaves': 16\n",
    "# }\n",
    "\n",
    "# lgb_params_3 = {\n",
    "#     'learning_rate': 0.02,\n",
    "#     'n_estimators': 800,\n",
    "#     'max_depth': 4\n",
    "# }\n",
    "\n",
    "# lgb_params_4 = {\n",
    "#     'learning_rate':0.05,\n",
    "#     'n_estimators':600,\n",
    "#     'num_leaves':35,\n",
    "#     'min_child_samples':500\n",
    "# }\n",
    "\n",
    "\n",
    "# xgb_params= {'max_depth':5, \n",
    "#              'learning_rate':0.01, \n",
    "#              'n_estimators':1300, \n",
    "#              'silent':True, \n",
    "#              'objective':'binary:logistic', \n",
    "#              'nthread':3, \n",
    "#              'gamma':0,\n",
    "#              'min_child_weight':500, \n",
    "#              'max_delta_step':0, \n",
    "#              'subsample':1, \n",
    "#              'colsample_bytree':0.8, \n",
    "#              'colsample_bylevel':1, \n",
    "#              'reg_alpha':0, \n",
    "#              'reg_lambda':1, \n",
    "#              'scale_pos_weight':20, \n",
    "#              'base_score':0.05, \n",
    "#              'seed':1234, \n",
    "#              'missing':-1\n",
    "#             }\n",
    "\n",
    "# # Layer 1\n",
    "# lgbm1 = lightgbm.sklearn.LGBMClassifier(**lgb_params)\n",
    "# xgbm1= xgboost.sklearn.XGBClassifier(**xgb_params)\n",
    "# lgbm2 = lightgbm.sklearn.LGBMClassifier(**lgb_params_2)\n",
    "# lgbm3 = lightgbm.sklearn.LGBMClassifier(**lgb_params_3)\n",
    "# lgbm4 = lightgbm.sklearn.LGBMClassifier(**lgb_params_4)\n",
    "\n",
    "\n",
    "\n",
    "# import sklearn.neural_network\n",
    "# # mlp_params= {\n",
    "# #     'hidden_layer_sizes':(20,20), \n",
    "# #     'activation':'relu', \n",
    "# #     'solver':'adam', \n",
    "# #     'alpha':0.0000001, \n",
    "# #     'batch_size':'auto', \n",
    "# #     'learning_rate_init':0.001, \n",
    "# #     'shuffle':True, \n",
    "# #     'tol':0.0001, \n",
    "# #     'early_stopping': True,\n",
    "# #     'validation_fraction':0.1, \n",
    "# #     'beta_1':0.9, \n",
    "# #     'beta_2':0.999, \n",
    "# #     'epsilon':1e-08\n",
    "# # }\n",
    "# mlp_params= {\n",
    "#     'hidden_layer_sizes':(20,8), \n",
    "#     'activation':'relu', \n",
    "#     'solver':'adam', \n",
    "#     'alpha':0.1,\n",
    "#     'batch_size':'auto', \n",
    "#     'learning_rate_init':0.02, \n",
    "#     'shuffle':True, \n",
    "#     'tol':0.0001, \n",
    "#     'early_stopping': True,\n",
    "#     'validation_fraction':0.1, \n",
    "#     'beta_1':0.9, \n",
    "#     'beta_2':0.999, \n",
    "#     'epsilon':1e-08\n",
    "# }\n",
    "\n",
    "# lgb_params_layer2 = {\n",
    "#     'learning_rate': 0.02,\n",
    "#     'n_estimators': 400,\n",
    "#     'max_depth': 1\n",
    "# }\n",
    "\n",
    "# # Layer 2\n",
    "# mlp= sklearn.neural_network.MLPClassifier(**mlp_params)\n",
    "# lgb= lightgbm.sklearn.LGBMClassifier(**lgb_params_layer2)\n",
    "# lr= sklearn.linear_model.LogisticRegression(C=0.0013,class_weight='balanced')\n",
    "\n",
    "# # Top layer\n",
    "# stacker= sklearn.linear_model.LogisticRegression(C=0.0013,class_weight='balanced')\n",
    "\n",
    "# # Define the stack\n",
    "# stack = Stack(3,[ [lgbm1,lgbm2,lgbm3,lgbm4], [lgb, mlp, lr] ], stacker)      \n",
    "# # stack = Stack(10,[ [lgbm1,lgbm2,lgbm3,lgbm4], [lgb,mlp,lr] ], stacker, saveInternalVectors=False)      "
   ]
  },
  {
   "cell_type": "code",
   "execution_count": 34,
   "metadata": {
    "collapsed": false
   },
   "outputs": [],
   "source": [
    "import lightgbm.sklearn\n",
    "import xgboost.sklearn\n",
    "import sklearn.linear_model\n",
    "import sklearn.neural_network\n",
    "\n",
    "lgb_params = {}\n",
    "lgb_params['learning_rate'] = 0.01\n",
    "lgb_params['n_estimators'] = 1300\n",
    "lgb_params['max_bin'] = 10\n",
    "lgb_params['subsample'] = 0.8\n",
    "lgb_params['subsample_freq'] = 10\n",
    "lgb_params['colsample_bytree'] = 0.8   \n",
    "lgb_params['min_child_samples'] = 500\n",
    "lgb_params['num_leaves']= 25\n",
    "lgb_params['n_jobs']=8\n",
    "\n",
    "lgb_params_2 = {\n",
    "    'learning_rate': 0.005,\n",
    "    'n_estimators': 3700,\n",
    "    'subsample': 0.7,\n",
    "    'subsample_freq': 2,\n",
    "    'colsample_bytree': 0.3,  \n",
    "    'num_leaves': 16,\n",
    "    'n_jobs':8\n",
    "}\n",
    "\n",
    "lgb_params_3 = {\n",
    "    'learning_rate': 0.02,\n",
    "    'n_estimators': 800,\n",
    "    'max_depth': 4,\n",
    "    'n_jobs':8\n",
    "}\n",
    "\n",
    "lgb_params_4 = {\n",
    "    'learning_rate':0.05,\n",
    "    'n_estimators':600,\n",
    "    'num_leaves':35,\n",
    "    'min_child_samples':500,\n",
    "    'n_jobs':8\n",
    "}\n",
    "\n",
    "\n",
    "xgb_params= {'learning_rate': 0.07,\n",
    "             'n_estimators':525,\n",
    "             'max_depth': 4, \n",
    "             'nthread':8,\n",
    "             'subsample': 0.8,\n",
    "             'min_child_weight':0.77,\n",
    "             'colsample_bytree': 0.8, \n",
    "             'objective': 'binary:logistic', \n",
    "             'eval_metric': 'auc', \n",
    "             'seed': 99, \n",
    "             'silent': True,\n",
    "             'scale_pos_weight': 1.6,\n",
    "             'reg_alpha':8,\n",
    "             'reg_lambda':1.3,\n",
    "             'gamma':10\n",
    "            }\n",
    "\n",
    "# Layer 1\n",
    "lgbm1 = lightgbm.sklearn.LGBMClassifier(**lgb_params)\n",
    "xgbm1= xgboost.sklearn.XGBClassifier(**xgb_params)\n",
    "lgbm2 = lightgbm.sklearn.LGBMClassifier(**lgb_params_2)\n",
    "lgbm3 = lightgbm.sklearn.LGBMClassifier(**lgb_params_3)\n",
    "lgbm4 = lightgbm.sklearn.LGBMClassifier(**lgb_params_4)\n",
    "\n",
    "\n",
    "\n",
    "# import sklearn.neural_network\n",
    "# mlp_params= {\n",
    "#     'hidden_layer_sizes':(20,8), \n",
    "#     'activation':'relu', \n",
    "#     'solver':'adam', \n",
    "#     'alpha':0.1,\n",
    "#     'batch_size':'auto', \n",
    "#     'learning_rate_init':0.02, \n",
    "#     'shuffle':True, \n",
    "#     'tol':0.0001, \n",
    "#     'early_stopping': True,\n",
    "#     'validation_fraction':0.1, \n",
    "#     'beta_1':0.9, \n",
    "#     'beta_2':0.999, \n",
    "#     'epsilon':1e-08\n",
    "# }\n",
    "\n",
    "lgb_params_layer2 = {\n",
    "    'learning_rate': 0.02,\n",
    "    'n_estimators': 400,\n",
    "    'max_depth': 1,\n",
    "    'n_jobs':8\n",
    "}\n",
    "\n",
    "# Layer 2\n",
    "# mlp= sklearn.neural_network.MLPClassifier(**mlp_params)\n",
    "lgb= lightgbm.sklearn.LGBMClassifier(**lgb_params_layer2)\n",
    "lr= sklearn.linear_model.LogisticRegression(C=0.0013,class_weight='balanced')\n",
    "\n",
    "# Top layer\n",
    "stacker= sklearn.linear_model.LogisticRegression(C=0.0013,class_weight='balanced')\n",
    "\n",
    "# Define the stack\n",
    "stack = Stack(3,[ [lgbm1,lgbm2,lgbm3,lgbm4,xgbm1], [lgb, lr] ], stacker)      \n",
    "# stack = Stack(10,[ [lgbm1,lgbm2,lgbm3,lgbm4], [lgb,mlp,lr] ], stacker, saveInternalVectors=False)      "
   ]
  },
  {
   "cell_type": "markdown",
   "metadata": {},
   "source": [
    "Now fit a model"
   ]
  },
  {
   "cell_type": "code",
   "execution_count": 35,
   "metadata": {
    "collapsed": true
   },
   "outputs": [],
   "source": [
    "# Read data\n",
    "\n",
    "# train\n",
    "X_train= np.load(open('../wp004/train_matrix.bin','rb'))\n",
    "y_train= np.load(open('../wp004/train_labels.bin','rb'))\n",
    "\n",
    "# test\n",
    "X_test= np.load(open('../wp004/test_matrix.bin','rb'))\n",
    "y_test= np.load(open('../wp004/test_labels.bin','rb'))"
   ]
  },
  {
   "cell_type": "code",
   "execution_count": 36,
   "metadata": {
    "collapsed": false,
    "scrolled": true
   },
   "outputs": [],
   "source": [
    "# from datetime import datetime\n",
    "# tc= datetime.now()\n",
    "# xgbm1.fit(X_train,y_train,eval_set=[(X_test,y_test)],eval_metric='auc',early_stopping_rounds=50,verbose=True)\n",
    "# print 'Training took: ',(datetime.now() - tc).total_seconds(),' seconds'"
   ]
  },
  {
   "cell_type": "code",
   "execution_count": 37,
   "metadata": {
    "collapsed": false
   },
   "outputs": [
    {
     "name": "stdout",
     "output_type": "stream",
     "text": [
      "Fitting stack layer 1\n",
      "Fit LGBMClassifier fold 1\n",
      "Fit LGBMClassifier fold 2\n",
      "Fit LGBMClassifier fold 3\n",
      "Fit LGBMClassifier fold 1\n",
      "Fit LGBMClassifier fold 2\n",
      "Fit LGBMClassifier fold 3\n",
      "Fit LGBMClassifier fold 1\n",
      "Fit LGBMClassifier fold 2\n",
      "Fit LGBMClassifier fold 3\n",
      "Fit LGBMClassifier fold 1\n",
      "Fit LGBMClassifier fold 2\n",
      "Fit LGBMClassifier fold 3\n",
      "Fit XGBClassifier fold 1\n",
      "Fit XGBClassifier fold 2\n",
      "Fit XGBClassifier fold 3\n",
      "Fitting stack layer 2\n",
      "Fit LGBMClassifier fold 1\n",
      "Fit LGBMClassifier fold 2\n",
      "Fit LGBMClassifier fold 3\n",
      "Fit LogisticRegression fold 1\n",
      "Fit LogisticRegression fold 2\n",
      "Fit LogisticRegression fold 3\n",
      "Training took:  576.685951  seconds\n"
     ]
    }
   ],
   "source": [
    "# Fit and predict\n",
    "from datetime import datetime\n",
    "tc= datetime.now()\n",
    "y_pred = stack.fit_predict(X_train, y_train, X_test) \n",
    "print 'Training took: ',(datetime.now() - tc).total_seconds(),' seconds'"
   ]
  },
  {
   "cell_type": "code",
   "execution_count": 38,
   "metadata": {
    "collapsed": false
   },
   "outputs": [
    {
     "name": "stdout",
     "output_type": "stream",
     "text": [
      "Gini_norm=  0.287089634733\n"
     ]
    }
   ],
   "source": [
    "import sklearn.metrics\n",
    "print 'Gini_norm= ',2.*sklearn.metrics.roc_auc_score(y_test,y_pred)-1."
   ]
  },
  {
   "cell_type": "code",
   "execution_count": 17,
   "metadata": {
    "collapsed": false
   },
   "outputs": [
    {
     "name": "stdout",
     "output_type": "stream",
     "text": [
      "Gini_norm=  0.287250611197\n"
     ]
    }
   ],
   "source": [
    "print 'Gini_norm= ',2.*sklearn.metrics.roc_auc_score(y_test,y_pred)-1."
   ]
  },
  {
   "cell_type": "markdown",
   "metadata": {
    "collapsed": true
   },
   "source": [
    "## Now try finessing params"
   ]
  },
  {
   "cell_type": "code",
   "execution_count": 22,
   "metadata": {
    "collapsed": true
   },
   "outputs": [],
   "source": [
    "Xtr_bottom= np.load(open('STACK_internal_train_layer_1.bin','rb'))\n",
    "Xte_bottom= np.load(open('STACK_internal_test_layer_1.bin','rb'))"
   ]
  },
  {
   "cell_type": "code",
   "execution_count": 40,
   "metadata": {
    "collapsed": true
   },
   "outputs": [],
   "source": [
    "nmlp_params= {\n",
    "    'hidden_layer_sizes':(8,8), \n",
    "    'activation':'relu', \n",
    "    'solver':'adam', \n",
    "    'alpha':0.1,\n",
    "    'batch_size':'auto', \n",
    "    'learning_rate_init':0.001, \n",
    "    'shuffle':True, \n",
    "    'tol':0.0001, \n",
    "    'early_stopping': True,\n",
    "    'validation_fraction':0.1, \n",
    "    'beta_1':0.9, \n",
    "    'beta_2':0.999, \n",
    "    'epsilon':1e-08\n",
    "}"
   ]
  },
  {
   "cell_type": "code",
   "execution_count": 43,
   "metadata": {
    "collapsed": false
   },
   "outputs": [
    {
     "name": "stdout",
     "output_type": "stream",
     "text": [
      "5.0, Gini_norm=  0.286699107915\n",
      "2.5, Gini_norm=  0.286769874091\n",
      "1.25, Gini_norm=  0.286594577262\n",
      "0.625, Gini_norm=  0.286778977201\n",
      "0.3125, Gini_norm=  0.286624651811\n",
      "0.15625, Gini_norm=  0.286428122308\n",
      "0.078125, Gini_norm=  0.286462758059\n",
      "0.0390625, Gini_norm=  0.286491677836\n",
      "0.01953125, Gini_norm=  0.286720014046\n",
      "0.009765625, Gini_norm=  0.286519104423\n",
      "0.0048828125, Gini_norm=  0.286796540726\n",
      "0.00244140625, Gini_norm=  0.286783004062\n",
      "0.001220703125, Gini_norm=  0.286182094925\n",
      "0.0006103515625, Gini_norm=  0.286567348084\n",
      "0.00030517578125, Gini_norm=  0.286384709989\n",
      "0.000152587890625, Gini_norm=  0.286778169751\n",
      "7.62939453125e-05, Gini_norm=  0.28641719353\n",
      "3.81469726562e-05, Gini_norm=  0.286477476213\n",
      "1.90734863281e-05, Gini_norm=  0.28684605048\n",
      "9.53674316406e-06, Gini_norm=  0.286636052591\n"
     ]
    }
   ],
   "source": [
    "vals= []\n",
    "alpha=10.0\n",
    "for i in range(20):\n",
    "    alpha /=2\n",
    "    nmlp_params['learning_rate_init']= alpha\n",
    "    nmlp= sklearn.neural_network.MLPClassifier(**mlp_params)\n",
    "    nmlp.fit(Xtr_bottom,y_train)\n",
    "    ypred= nmlp.predict_proba(Xte_bottom)[:,1]\n",
    "    print str(alpha)+', Gini_norm= ',2.*sklearn.metrics.roc_auc_score(y_test,ypred)-1.\n",
    "    vals.append( 2.*sklearn.metrics.roc_auc_score(y_test,ypred)-1. )"
   ]
  },
  {
   "cell_type": "code",
   "execution_count": 44,
   "metadata": {
    "collapsed": false
   },
   "outputs": [
    {
     "data": {
      "text/plain": [
       "[<matplotlib.lines.Line2D at 0x113a8c1d0>]"
      ]
     },
     "execution_count": 44,
     "metadata": {},
     "output_type": "execute_result"
    },
    {
     "data": {
      "image/png": "[encoded data removed]",
      "text/plain": [
       "<matplotlib.figure.Figure at 0x112e9bad0>"
      ]
     },
     "metadata": {},
     "output_type": "display_data"
    }
   ],
   "source": [
    "plt.plot(vals)"
   ]
  },
  {
   "cell_type": "code",
   "execution_count": 50,
   "metadata": {
    "collapsed": false
   },
   "outputs": [
    {
     "name": "stdout",
     "output_type": "stream",
     "text": [
      "1, Gini_norm=  0.286738027308\n",
      "2, Gini_norm=  0.286042578229\n",
      "3, Gini_norm=  0.285705565762\n",
      "4, Gini_norm=  0.284915611621\n",
      "5, Gini_norm=  0.282970366292\n",
      "6, Gini_norm=  0.281257743042\n"
     ]
    },
    {
     "data": {
      "text/plain": [
       "[<matplotlib.lines.Line2D at 0x1127e8890>]"
      ]
     },
     "execution_count": 50,
     "metadata": {},
     "output_type": "execute_result"
    },
    {
     "data": {
      "image/png": "[encoded data removed]",
      "text/plain": [
       "<matplotlib.figure.Figure at 0x113031c10>"
      ]
     },
     "metadata": {},
     "output_type": "display_data"
    }
   ],
   "source": [
    "lgb_params_layer2 = {\n",
    "    'learning_rate': 0.02,\n",
    "    'n_estimators': 800,\n",
    "    'max_depth': 1\n",
    "}\n",
    "vals= []\n",
    "alpha=0\n",
    "for i in range(6):\n",
    "    alpha +=1\n",
    "    lgb_params_layer2['max_depth']= int(alpha)\n",
    "    nlgm= lightgbm.sklearn.LGBMClassifier(**lgb_params_layer2)\n",
    "    nlgm.fit(Xtr_bottom,y_train)\n",
    "    ypred= nlgm.predict_proba(Xte_bottom)[:,1]\n",
    "    print str(alpha)+', Gini_norm= ',2.*sklearn.metrics.roc_auc_score(y_test,ypred)-1.\n",
    "    vals.append( 2.*sklearn.metrics.roc_auc_score(y_test,ypred)-1. )\n",
    "plt.plot(vals)"
   ]
  },
  {
   "cell_type": "code",
   "execution_count": 18,
   "metadata": {
    "collapsed": true
   },
   "outputs": [],
   "source": [
    "Xtr_middle= np.load(open('STACK_internal_train_layer_2.bin','rb'))\n",
    "Xte_middle= np.load(open('STACK_internal_test_layer_2.bin','rb'))"
   ]
  },
  {
   "cell_type": "code",
   "execution_count": 19,
   "metadata": {
    "collapsed": false
   },
   "outputs": [
    {
     "name": "stdout",
     "output_type": "stream",
     "text": [
      "Gini_norm=  0.286744198958\n"
     ]
    }
   ],
   "source": [
    "nstacker=  sklearn.linear_model.LogisticRegression()\n",
    "nstacker.fit(Xtr_middle,y_train)\n",
    "ypred= nstacker.predict_proba(Xte_middle)[:,1]\n",
    "print 'Gini_norm= ',2.*sklearn.metrics.roc_auc_score(y_test,y_pred)-1."
   ]
  },
  {
   "cell_type": "code",
   "execution_count": 21,
   "metadata": {
    "collapsed": false
   },
   "outputs": [
    {
     "name": "stdout",
     "output_type": "stream",
     "text": [
      "5.0, Gini_norm=  0.286742235252\n",
      "2.5, Gini_norm=  0.286742695379\n",
      "1.25, Gini_norm=  0.286743631962\n",
      "0.625, Gini_norm=  0.286744314732\n",
      "0.3125, Gini_norm=  0.286745767846\n",
      "0.15625, Gini_norm=  0.286745488801\n",
      "0.078125, Gini_norm=  0.286746302188\n",
      "0.0390625, Gini_norm=  0.286746401635\n",
      "0.01953125, Gini_norm=  0.286745816827\n",
      "0.009765625, Gini_norm=  0.286745251315\n",
      "0.0048828125, Gini_norm=  0.286741930973\n",
      "0.00244140625, Gini_norm=  0.286728645153\n",
      "0.001220703125, Gini_norm=  0.286298721003\n",
      "0.0006103515625, Gini_norm=  -0.28664167654\n",
      "0.00030517578125, Gini_norm=  -0.286726818001\n",
      "0.000152587890625, Gini_norm=  -0.286736214998\n",
      "7.62939453125e-05, Gini_norm=  -0.286739130131\n",
      "3.81469726562e-05, Gini_norm=  -0.286740237406\n",
      "1.90734863281e-05, Gini_norm=  -0.286741329839\n",
      "9.53674316406e-06, Gini_norm=  -0.286741015171\n"
     ]
    }
   ],
   "source": [
    "C=10.\n",
    "for i in range(20):\n",
    "    C /= 2\n",
    "    nstacker=  sklearn.linear_model.LogisticRegression(C=C)\n",
    "    nstacker.fit(Xtr_middle,y_train)\n",
    "    ypred= nstacker.predict_proba(Xte_middle)[:,1]\n",
    "    print str(C)+', Gini_norm= ',2.*sklearn.metrics.roc_auc_score(y_test,ypred)-1."
   ]
  },
  {
   "cell_type": "markdown",
   "metadata": {},
   "source": [
    "## Now score the actual data"
   ]
  },
  {
   "cell_type": "code",
   "execution_count": 5,
   "metadata": {
    "collapsed": false
   },
   "outputs": [],
   "source": [
    "# Read data\n",
    "\n",
    "# train\n",
    "X_train= np.load(open('../wp005/full_train_matrix.bin','rb'))\n",
    "y_train= np.load(open('../wp005/full_train_labels.bin','rb'))\n",
    "\n",
    "# test\n",
    "X_test= np.load(open('../wp005/blind_test_matrix.bin','rb'))\n",
    "# y_test= np.load(open('../wp005/test_labels.bin','rb'))"
   ]
  },
  {
   "cell_type": "code",
   "execution_count": 6,
   "metadata": {
    "collapsed": true
   },
   "outputs": [],
   "source": [
    "test_ids= pd.read_csv('../data/test.csv',usecols=['id'])"
   ]
  },
  {
   "cell_type": "code",
   "execution_count": 7,
   "metadata": {
    "collapsed": true
   },
   "outputs": [],
   "source": [
    "import lightgbm.sklearn\n",
    "import xgboost.sklearn\n",
    "import sklearn.linear_model\n",
    "import sklearn.neural_network\n",
    "\n",
    "lgb_params = {}\n",
    "lgb_params['learning_rate'] = 0.01\n",
    "lgb_params['n_estimators'] = 1300\n",
    "lgb_params['max_bin'] = 10\n",
    "lgb_params['subsample'] = 0.8\n",
    "lgb_params['subsample_freq'] = 10\n",
    "lgb_params['colsample_bytree'] = 0.8   \n",
    "lgb_params['min_child_samples'] = 500\n",
    "lgb_params['num_leaves']= 25\n",
    "lgb_params['n_jobs']=8\n",
    "\n",
    "lgb_params_2 = {\n",
    "    'learning_rate': 0.005,\n",
    "    'n_estimators': 3700,\n",
    "    'subsample': 0.7,\n",
    "    'subsample_freq': 2,\n",
    "    'colsample_bytree': 0.3,  \n",
    "    'num_leaves': 16,\n",
    "    'n_jobs':8\n",
    "}\n",
    "\n",
    "lgb_params_3 = {\n",
    "    'learning_rate': 0.02,\n",
    "    'n_estimators': 800,\n",
    "    'max_depth': 4,\n",
    "    'n_jobs':8\n",
    "}\n",
    "\n",
    "lgb_params_4 = {\n",
    "    'learning_rate':0.05,\n",
    "    'n_estimators':600,\n",
    "    'num_leaves':35,\n",
    "    'min_child_samples':500,\n",
    "    'n_jobs':8\n",
    "}\n",
    "\n",
    "\n",
    "xgb_params= {'learning_rate': 0.07,\n",
    "             'n_estimators':525,\n",
    "             'max_depth': 4, \n",
    "             'nthread':8,\n",
    "             'subsample': 0.8,\n",
    "             'min_child_weight':0.77,\n",
    "             'colsample_bytree': 0.8, \n",
    "             'objective': 'binary:logistic', \n",
    "             'eval_metric': 'auc', \n",
    "             'seed': 99, \n",
    "             'silent': True,\n",
    "             'scale_pos_weight': 1.6,\n",
    "             'reg_alpha':8,\n",
    "             'reg_lambda':1.3,\n",
    "             'gamma':10\n",
    "            }\n",
    "\n",
    "# Layer 1\n",
    "lgbm1 = lightgbm.sklearn.LGBMClassifier(**lgb_params)\n",
    "xgbm1= xgboost.sklearn.XGBClassifier(**xgb_params)\n",
    "lgbm2 = lightgbm.sklearn.LGBMClassifier(**lgb_params_2)\n",
    "lgbm3 = lightgbm.sklearn.LGBMClassifier(**lgb_params_3)\n",
    "lgbm4 = lightgbm.sklearn.LGBMClassifier(**lgb_params_4)\n",
    "\n",
    "\n",
    "\n",
    "# import sklearn.neural_network\n",
    "# mlp_params= {\n",
    "#     'hidden_layer_sizes':(20,8), \n",
    "#     'activation':'relu', \n",
    "#     'solver':'adam', \n",
    "#     'alpha':0.1,\n",
    "#     'batch_size':'auto', \n",
    "#     'learning_rate_init':0.02, \n",
    "#     'shuffle':True, \n",
    "#     'tol':0.0001, \n",
    "#     'early_stopping': True,\n",
    "#     'validation_fraction':0.1, \n",
    "#     'beta_1':0.9, \n",
    "#     'beta_2':0.999, \n",
    "#     'epsilon':1e-08\n",
    "# }\n",
    "\n",
    "lgb_params_layer2 = {\n",
    "    'learning_rate': 0.02,\n",
    "    'n_estimators': 400,\n",
    "    'max_depth': 1,\n",
    "    'n_jobs':8\n",
    "}\n",
    "\n",
    "# Layer 2\n",
    "# mlp= sklearn.neural_network.MLPClassifier(**mlp_params)\n",
    "lgb= lightgbm.sklearn.LGBMClassifier(**lgb_params_layer2)\n",
    "lr= sklearn.linear_model.LogisticRegression(C=0.0013,class_weight='balanced')\n",
    "\n",
    "# Top layer\n",
    "stacker= sklearn.linear_model.LogisticRegression(C=0.0013,class_weight='balanced')\n",
    "\n",
    "# Define the stack\n",
    "stack = Stack(10,[ [lgbm1,lgbm2,lgbm3,lgbm4,xgbm1], [lgb, lr] ], stacker)      \n",
    "# stack = Stack(10,[ [lgbm1,lgbm2,lgbm3,lgbm4], [lgb,mlp,lr] ], stacker, saveInternalVectors=False)      "
   ]
  },
  {
   "cell_type": "code",
   "execution_count": 8,
   "metadata": {
    "collapsed": false,
    "scrolled": false
   },
   "outputs": [
    {
     "name": "stdout",
     "output_type": "stream",
     "text": [
      "Fitting stack layer 1\n",
      "Fit LGBMClassifier fold 1\n",
      "Fit LGBMClassifier fold 2\n",
      "Fit LGBMClassifier fold 3\n",
      "Fit LGBMClassifier fold 4\n",
      "Fit LGBMClassifier fold 5\n",
      "Fit LGBMClassifier fold 6\n",
      "Fit LGBMClassifier fold 7\n",
      "Fit LGBMClassifier fold 8\n",
      "Fit LGBMClassifier fold 9\n",
      "Fit LGBMClassifier fold 10\n",
      "Fit LGBMClassifier fold 1\n",
      "Fit LGBMClassifier fold 2\n",
      "Fit LGBMClassifier fold 3\n",
      "Fit LGBMClassifier fold 4\n",
      "Fit LGBMClassifier fold 5\n",
      "Fit LGBMClassifier fold 6\n",
      "Fit LGBMClassifier fold 7\n",
      "Fit LGBMClassifier fold 8\n",
      "Fit LGBMClassifier fold 9\n",
      "Fit LGBMClassifier fold 10\n",
      "Fit LGBMClassifier fold 1\n",
      "Fit LGBMClassifier fold 2\n",
      "Fit LGBMClassifier fold 3\n",
      "Fit LGBMClassifier fold 4\n",
      "Fit LGBMClassifier fold 5\n",
      "Fit LGBMClassifier fold 6\n",
      "Fit LGBMClassifier fold 7\n",
      "Fit LGBMClassifier fold 8\n",
      "Fit LGBMClassifier fold 9\n",
      "Fit LGBMClassifier fold 10\n",
      "Fit LGBMClassifier fold 1\n",
      "Fit LGBMClassifier fold 2\n",
      "Fit LGBMClassifier fold 3\n",
      "Fit LGBMClassifier fold 4\n",
      "Fit LGBMClassifier fold 5\n",
      "Fit LGBMClassifier fold 6\n",
      "Fit LGBMClassifier fold 7\n",
      "Fit LGBMClassifier fold 8\n",
      "Fit LGBMClassifier fold 9\n",
      "Fit LGBMClassifier fold 10\n",
      "Fit XGBClassifier fold 1\n",
      "Fit XGBClassifier fold 2\n",
      "Fit XGBClassifier fold 3\n",
      "Fit XGBClassifier fold 4\n",
      "Fit XGBClassifier fold 5\n",
      "Fit XGBClassifier fold 6\n",
      "Fit XGBClassifier fold 7\n",
      "Fit XGBClassifier fold 8\n",
      "Fit XGBClassifier fold 9\n",
      "Fit XGBClassifier fold 10\n",
      "Fitting stack layer 2\n",
      "Fit LGBMClassifier fold 1\n",
      "Fit LGBMClassifier fold 2\n",
      "Fit LGBMClassifier fold 3\n",
      "Fit LGBMClassifier fold 4\n",
      "Fit LGBMClassifier fold 5\n",
      "Fit LGBMClassifier fold 6\n",
      "Fit LGBMClassifier fold 7\n",
      "Fit LGBMClassifier fold 8\n",
      "Fit LGBMClassifier fold 9\n",
      "Fit LGBMClassifier fold 10\n",
      "Fit LogisticRegression fold 1\n",
      "Fit LogisticRegression fold 2\n",
      "Fit LogisticRegression fold 3\n",
      "Fit LogisticRegression fold 4\n",
      "Fit LogisticRegression fold 5\n",
      "Fit LogisticRegression fold 6\n",
      "Fit LogisticRegression fold 7\n",
      "Fit LogisticRegression fold 8\n",
      "Fit LogisticRegression fold 9\n",
      "Fit LogisticRegression fold 10\n",
      " Training took 3991.631874\n"
     ]
    }
   ],
   "source": [
    "# Fit and predict\n",
    "from datetime import datetime\n",
    "tc= datetime.now()\n",
    "y_pred = stack.fit_predict(X_train, y_train, X_test) \n",
    "print' Training took '+str( (datetime.now() - tc).total_seconds())"
   ]
  },
  {
   "cell_type": "code",
   "execution_count": 9,
   "metadata": {
    "collapsed": true
   },
   "outputs": [],
   "source": [
    "out_df= pd.DataFrame( {'id': test_ids.id.values, 'target': y_pred},\n",
    "                     columns=['id','target']\n",
    "                    ).to_csv('submission_wp011d.csv',index=False)"
   ]
  },
  {
   "cell_type": "markdown",
   "metadata": {},
   "source": [
    "OK, now check some params in higher layers by cross val"
   ]
  },
  {
   "cell_type": "code",
   "execution_count": 79,
   "metadata": {
    "collapsed": true
   },
   "outputs": [],
   "source": [
    "Xtr_middle= np.load(open('STACK_internal_train_layer_1.bin','rb'))\n",
    "Xte_middle= np.load(open('STACK_internal_test_layer_1.bin','rb'))\n",
    "\n",
    "def gini_normed(classs,ytrue,ypred):\n",
    "    return 2.*sklearn.metrics.roc_auc_score(ytrue,ypred)-1."
   ]
  },
  {
   "cell_type": "code",
   "execution_count": 130,
   "metadata": {
    "collapsed": false
   },
   "outputs": [
    {
     "name": "stdout",
     "output_type": "stream",
     "text": [
      "9.53674316406e-06, Gini_norm=  0.641074293557\n"
     ]
    }
   ],
   "source": [
    "lgb_params_layer2 = {\n",
    "    'learning_rate': 0.02,\n",
    "    'n_estimators': 400,\n",
    "    'max_depth': 1\n",
    "}\n",
    "\n",
    "# C=10.\n",
    "# vals= []\n",
    "# for i in range(20):\n",
    "#     C /= 2\n",
    "#     nmlp_params['alpha']= C\n",
    "nstacker= lightgbm.sklearn.LGBMClassifier(**lgb_params_layer2)\n",
    "scores = cross_val_score(nstacker, Xtr_middle, y=y_train, scoring= 'roc_auc', cv=5)\n",
    "#     nstacker.fit(Xtr_middle,y_train)\n",
    "#     ypred= nstacker.predict_proba(Xte_middle)[:,1]\n",
    "print str(C)+', Gini_norm= ',np.mean(scores)\n",
    "#     vals.append(np.mean(scores))"
   ]
  },
  {
   "cell_type": "code",
   "execution_count": 119,
   "metadata": {
    "collapsed": false
   },
   "outputs": [
    {
     "data": {
      "text/plain": [
       "(0.641, 0.642)"
      ]
     },
     "execution_count": 119,
     "metadata": {},
     "output_type": "execute_result"
    },
    {
     "data": {
      "image/png": "[encoded data removed]",
      "text/plain": [
       "<matplotlib.figure.Figure at 0x1139aa310>"
      ]
     },
     "metadata": {},
     "output_type": "display_data"
    }
   ],
   "source": [
    "plt.plot(vals)\n",
    "plt.ylim([0.641,0.642])"
   ]
  },
  {
   "cell_type": "code",
   "execution_count": 97,
   "metadata": {
    "collapsed": false
   },
   "outputs": [
    {
     "data": {
      "text/plain": [
       "0.2822"
      ]
     },
     "execution_count": 97,
     "metadata": {},
     "output_type": "execute_result"
    }
   ],
   "source": [
    "2.*0.6411-1."
   ]
  },
  {
   "cell_type": "code",
   "execution_count": 102,
   "metadata": {
    "collapsed": false
   },
   "outputs": [
    {
     "name": "stdout",
     "output_type": "stream",
     "text": [
      "0.282814100009\n"
     ]
    }
   ],
   "source": [
    "nstacker=  sklearn.linear_model.LogisticRegression(C=0.0013)\n",
    "scores = cross_val_score(nstacker, Xtr_middle, y=y_train, scoring= 'roc_auc', cv=5)\n",
    "print 2.*np.mean(scores)-1."
   ]
  },
  {
   "cell_type": "code",
   "execution_count": null,
   "metadata": {
    "collapsed": true
   },
   "outputs": [],
   "source": []
  }
 ],
 "metadata": {
  "anaconda-cloud": {},
  "kernelspec": {
   "display_name": "Python [conda root]",
   "language": "python",
   "name": "conda-root-py"
  },
  "language_info": {
   "codemirror_mode": {
    "name": "ipython",
    "version": 2
   },
   "file_extension": ".py",
   "mimetype": "text/x-python",
   "name": "python",
   "nbconvert_exporter": "python",
   "pygments_lexer": "ipython2",
   "version": "2.7.12"
  }
 },
 "nbformat": 4,
 "nbformat_minor": 1
}
